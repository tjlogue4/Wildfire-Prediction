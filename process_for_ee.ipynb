{
 "cells": [
  {
   "cell_type": "code",
   "execution_count": 1,
   "metadata": {},
   "outputs": [],
   "source": [
    "# this gets the most recent tiles from aws and runs them against our model for a prediction\n",
    "import pandas as pd\n",
    "import rasterio\n",
    "import boto3\n",
    "import numpy as np\n",
    "import rasterio as rio\n",
    "from rasterio.plot import show\n",
    "from rasterio.warp import calculate_default_transform, reproject, Resampling\n",
    "import tensorflow as tf\n",
    "from tqdm import tqdm\n",
    "from datetime import datetime, timedelta"
   ]
  },
  {
   "cell_type": "code",
   "execution_count": 2,
   "metadata": {},
   "outputs": [],
   "source": [
    "mgrs = pd.read_csv('ca_mgrs.csv')['MGRS'].unique().tolist()"
   ]
  },
  {
   "cell_type": "code",
   "execution_count": 3,
   "metadata": {},
   "outputs": [],
   "source": [
    "# get most recent prefix\n",
    "def get_latest_prefix(mgrs):\n",
    "    first = mgrs[0:2]\n",
    "    second = mgrs[2:3]\n",
    "    third = mgrs[3:5]\n",
    "    bucket = 'sentinel-cogs'\n",
    "    prefix = f'sentinel-s2-l2a-cogs/{first}/{second}/{third}/2022/9/'\n",
    "    \n",
    "\n",
    "    s3 = boto3.client('s3')\n",
    "    response = s3.list_objects_v2(Bucket=bucket, Prefix=prefix)\n",
    "    all = response['Contents'] \n",
    "    #print(all)       \n",
    "    for i in all:\n",
    "        if i['Key'].endswith('TCI.tif'):\n",
    "            if i['Size'] > 270000000:\n",
    "                if i['LastModified'].date() > (datetime.now() - timedelta(days=15)).date():\n",
    "                    latest_prefix = i['Key'].rsplit('/', 1)[0]\n",
    "                else:\n",
    "                    pass\n",
    "\n",
    "\n",
    "    return latest_prefix\n"
   ]
  },
  {
   "cell_type": "code",
   "execution_count": 4,
   "metadata": {},
   "outputs": [],
   "source": [
    "#downlaod B04, B08 and B12\n",
    "def get_raster(latest_prefix, path):\n",
    "    s3 = boto3.client('s3')\n",
    "    bucket = 'sentinel-cogs'\n",
    "    file_prefix = latest_prefix.split('/')[-1]\n",
    "    B04 = path + 'process/' + f'{file_prefix}_B04.tif'\n",
    "    B08 = path + 'process/' + f'{file_prefix}_B08.tif'\n",
    "    B12 = path + 'B12/' +f'{file_prefix}_B12.tif'\n",
    "    s3.download_file(bucket, latest_prefix + '/B04.tif', B04)\n",
    "    s3.download_file(bucket, latest_prefix + '/B08.tif', B08)\n",
    "    s3.download_file(bucket, latest_prefix + '/B12.tif', B12)\n",
    "    return B04, B08, B12"
   ]
  },
  {
   "cell_type": "code",
   "execution_count": 5,
   "metadata": {},
   "outputs": [],
   "source": [
    "def create_ndvi(B04, B08):\n",
    "    with rio.open(B04) as src:\n",
    "        Red = src.read(out_shape=(src.count, 5490, 5490), resampling=Resampling.bilinear).astype('float32')\n",
    "\n",
    "    with rio.open(B08) as src:\n",
    "        NIR = src.read(out_shape=(src.count, 5490, 5490), resampling=Resampling.bilinear).astype('float32')\n",
    "\n",
    "    \t\n",
    "    np.seterr(divide='ignore', invalid='ignore')\n",
    "    NDVI = (NIR-Red)/(NIR+Red)\n",
    "    \n",
    "    # convert nan to 0 (this necessary due to the divide by 0 issue)\n",
    "    NDVI = np.nan_to_num(NDVI, nan=0, posinf=0, neginf=0)\n",
    "    return np.squeeze(NDVI)\n",
    "    "
   ]
  },
  {
   "cell_type": "code",
   "execution_count": 6,
   "metadata": {},
   "outputs": [],
   "source": [
    "#function that takes NDVI, splits it and then return it into its orginal shape\n",
    "def predict_fire(NDVI, model):\n",
    "    #splits\n",
    "    M = NDVI.shape[0]//10\n",
    "    N = NDVI.shape[1]//10\n",
    "    NDVI_split = [NDVI[x:x+M,y:y+N] for x in range(0,NDVI.shape[0],M) for y in range(0,NDVI.shape[1],N)]\n",
    "\n",
    "    #do prediction here\n",
    "    preds = []\n",
    "    for ndvi in NDVI_split:\n",
    "        new_prediction = model.predict(np.expand_dims(ndvi, axis=0))\n",
    "        pred = np.squeeze(new_prediction, axis=0)\n",
    "        preds.append(pred)\n",
    "    #rejoins preds\n",
    "    nd_arr = np.array(preds)\n",
    "    nd_arr = nd_arr.reshape(10, 10, 549, 549)\n",
    "    nd_arr = nd_arr.swapaxes(1,2)\n",
    "    pred_B12 = nd_arr.reshape(5490, 5490)\n",
    "    pred_B12[np.abs(pred_B12) < .01] = 0\n",
    "    pred_B12 = pred_B12*1000\n",
    "\n",
    "    return pred_B12"
   ]
  },
  {
   "cell_type": "code",
   "execution_count": 7,
   "metadata": {},
   "outputs": [],
   "source": [
    "def create_ee_B12(pred_B12, real_B12_path, perd_B12_save_path):\n",
    "    with rio.open(real_B12_path) as src:\n",
    "        if src.crs == 'EPSG:32611':\n",
    "            espg_path = '32611'\n",
    "        else:\n",
    "            espg_path = '32610'\n",
    "        meta = src.meta\n",
    "        #print(meta)\n",
    "        meta['width'] = 5490\n",
    "        meta['height'] = 5490\n",
    "    \n",
    "\n",
    "    pred_b12_file_name = perd_B12_save_path + espg_path + '/'+ real_B12_path.split('/')[-1]\n",
    "# figure this out lol\n",
    "#open B12 get meta from it (see above, and save new raster)\n",
    "    with rio.open(pred_b12_file_name, 'w', **meta) as dst:\n",
    "        dst.write(pred_B12, 1)\n",
    "        dst.close\n"
   ]
  },
  {
   "cell_type": "code",
   "execution_count": 9,
   "metadata": {},
   "outputs": [],
   "source": [
    "model_name = \"model_16\"\n",
    "model = tf.keras.models.load_model(model_name)"
   ]
  },
  {
   "cell_type": "code",
   "execution_count": 10,
   "metadata": {},
   "outputs": [
    {
     "name": "stderr",
     "output_type": "stream",
     "text": [
      " 57%|█████▋    | 27/47 [10:45<05:49, 17.49s/it]"
     ]
    },
    {
     "name": "stdout",
     "output_type": "stream",
     "text": [
      "11SNU\n"
     ]
    },
    {
     "name": "stderr",
     "output_type": "stream",
     "text": [
      "100%|██████████| 47/47 [19:31<00:00, 24.92s/it]\n"
     ]
    }
   ],
   "source": [
    "for tile in tqdm(mgrs):\n",
    "    try:\n",
    "        latest_prefix= get_latest_prefix(tile)\n",
    "        B04, B08, B12 = get_raster(latest_prefix, r'C:/temp/')\n",
    "        NDVI = create_ndvi(B04, B08)\n",
    "        pred_B12 = predict_fire(NDVI, model)\n",
    "        create_ee_B12(pred_B12, B12, r'C:/temp/pred_B12/')\n",
    "    except:\n",
    "        print(tile)"
   ]
  }
 ],
 "metadata": {
  "kernelspec": {
   "display_name": "Python 3.9.5 64-bit",
   "language": "python",
   "name": "python3"
  },
  "language_info": {
   "codemirror_mode": {
    "name": "ipython",
    "version": 3
   },
   "file_extension": ".py",
   "mimetype": "text/x-python",
   "name": "python",
   "nbconvert_exporter": "python",
   "pygments_lexer": "ipython3",
   "version": "3.9.5"
  },
  "orig_nbformat": 4,
  "vscode": {
   "interpreter": {
    "hash": "0963322607b61fb85e60b3c63581df9ac5d2bad434271279b035d9d92170e8cb"
   }
  }
 },
 "nbformat": 4,
 "nbformat_minor": 2
}
