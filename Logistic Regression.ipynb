{
 "cells": [
  {
   "cell_type": "code",
   "execution_count": 1,
   "id": "44450296",
   "metadata": {},
   "outputs": [],
   "source": [
    "import pandas as pd"
   ]
  },
  {
   "cell_type": "code",
   "execution_count": 2,
   "id": "3f14734d",
   "metadata": {},
   "outputs": [],
   "source": [
    "df = pd.read_csv(r'..\\..\\Weather Data\\weather_hourly_active.csv')"
   ]
  },
  {
   "cell_type": "code",
   "execution_count": 3,
   "id": "d7124a38",
   "metadata": {},
   "outputs": [
    {
     "data": {
      "text/plain": [
       "Index(['DATE', 'HOUR', 'STATION', 'MGRS', 'LAT', 'LONG', 'ELEV', 'WIND_ANGLE',\n",
       "       'WIND_SPEED', 'SKY_OBS', 'VISIBILITY_DIST', 'AIR_TEMP', 'AIR_TEMP_DEW',\n",
       "       'ATM_PRESSURE', 'YEAR', 'MONTH', 'DAY', 'ACTIVE'],\n",
       "      dtype='object')"
      ]
     },
     "execution_count": 3,
     "metadata": {},
     "output_type": "execute_result"
    }
   ],
   "source": [
    "df.columns"
   ]
  },
  {
   "cell_type": "code",
   "execution_count": 4,
   "id": "f5ded71d",
   "metadata": {},
   "outputs": [
    {
     "data": {
      "text/html": [
       "<div>\n",
       "<style scoped>\n",
       "    .dataframe tbody tr th:only-of-type {\n",
       "        vertical-align: middle;\n",
       "    }\n",
       "\n",
       "    .dataframe tbody tr th {\n",
       "        vertical-align: top;\n",
       "    }\n",
       "\n",
       "    .dataframe thead th {\n",
       "        text-align: right;\n",
       "    }\n",
       "</style>\n",
       "<table border=\"1\" class=\"dataframe\">\n",
       "  <thead>\n",
       "    <tr style=\"text-align: right;\">\n",
       "      <th></th>\n",
       "      <th>DATE</th>\n",
       "      <th>HOUR</th>\n",
       "      <th>STATION</th>\n",
       "      <th>MGRS</th>\n",
       "      <th>LAT</th>\n",
       "      <th>LONG</th>\n",
       "      <th>ELEV</th>\n",
       "      <th>WIND_ANGLE</th>\n",
       "      <th>WIND_SPEED</th>\n",
       "      <th>SKY_OBS</th>\n",
       "      <th>VISIBILITY_DIST</th>\n",
       "      <th>AIR_TEMP</th>\n",
       "      <th>AIR_TEMP_DEW</th>\n",
       "      <th>ATM_PRESSURE</th>\n",
       "      <th>YEAR</th>\n",
       "      <th>MONTH</th>\n",
       "      <th>DAY</th>\n",
       "      <th>ACTIVE</th>\n",
       "    </tr>\n",
       "  </thead>\n",
       "  <tbody>\n",
       "    <tr>\n",
       "      <th>0</th>\n",
       "      <td>2013-01-01</td>\n",
       "      <td>0</td>\n",
       "      <td>690150-93121</td>\n",
       "      <td>11SNT</td>\n",
       "      <td>34.300</td>\n",
       "      <td>-116.166</td>\n",
       "      <td>696.00</td>\n",
       "      <td>340.0</td>\n",
       "      <td>3.600000</td>\n",
       "      <td>22000.000000</td>\n",
       "      <td>16093.0</td>\n",
       "      <td>7.2</td>\n",
       "      <td>-11.700000</td>\n",
       "      <td>1023.1</td>\n",
       "      <td>2013.0</td>\n",
       "      <td>1.0</td>\n",
       "      <td>1.0</td>\n",
       "      <td>False</td>\n",
       "    </tr>\n",
       "    <tr>\n",
       "      <th>1</th>\n",
       "      <td>2013-01-01</td>\n",
       "      <td>0</td>\n",
       "      <td>720165-99999</td>\n",
       "      <td>11SNT</td>\n",
       "      <td>34.264</td>\n",
       "      <td>-116.854</td>\n",
       "      <td>2057.00</td>\n",
       "      <td>105.0</td>\n",
       "      <td>1.366667</td>\n",
       "      <td>22000.000000</td>\n",
       "      <td>16093.0</td>\n",
       "      <td>0.0</td>\n",
       "      <td>-16.000000</td>\n",
       "      <td>NaN</td>\n",
       "      <td>2013.0</td>\n",
       "      <td>1.0</td>\n",
       "      <td>1.0</td>\n",
       "      <td>False</td>\n",
       "    </tr>\n",
       "    <tr>\n",
       "      <th>2</th>\n",
       "      <td>2013-01-01</td>\n",
       "      <td>0</td>\n",
       "      <td>720267-23224</td>\n",
       "      <td>10SFJ</td>\n",
       "      <td>38.955</td>\n",
       "      <td>-121.081</td>\n",
       "      <td>467.75</td>\n",
       "      <td>270.0</td>\n",
       "      <td>0.775000</td>\n",
       "      <td>22000.000000</td>\n",
       "      <td>16093.0</td>\n",
       "      <td>6.5</td>\n",
       "      <td>2.000000</td>\n",
       "      <td>NaN</td>\n",
       "      <td>2013.0</td>\n",
       "      <td>1.0</td>\n",
       "      <td>1.0</td>\n",
       "      <td>False</td>\n",
       "    </tr>\n",
       "    <tr>\n",
       "      <th>3</th>\n",
       "      <td>2013-01-01</td>\n",
       "      <td>0</td>\n",
       "      <td>720406-99999</td>\n",
       "      <td>10SEH</td>\n",
       "      <td>38.150</td>\n",
       "      <td>-122.550</td>\n",
       "      <td>1.00</td>\n",
       "      <td>130.0</td>\n",
       "      <td>0.500000</td>\n",
       "      <td>22000.000000</td>\n",
       "      <td>16093.0</td>\n",
       "      <td>10.0</td>\n",
       "      <td>-1.000000</td>\n",
       "      <td>NaN</td>\n",
       "      <td>2013.0</td>\n",
       "      <td>1.0</td>\n",
       "      <td>1.0</td>\n",
       "      <td>False</td>\n",
       "    </tr>\n",
       "    <tr>\n",
       "      <th>4</th>\n",
       "      <td>2013-01-01</td>\n",
       "      <td>0</td>\n",
       "      <td>720935-99999</td>\n",
       "      <td>10SEH</td>\n",
       "      <td>38.250</td>\n",
       "      <td>-122.600</td>\n",
       "      <td>27.00</td>\n",
       "      <td>275.0</td>\n",
       "      <td>1.733333</td>\n",
       "      <td>7953.333333</td>\n",
       "      <td>16093.0</td>\n",
       "      <td>10.0</td>\n",
       "      <td>2.666667</td>\n",
       "      <td>NaN</td>\n",
       "      <td>2013.0</td>\n",
       "      <td>1.0</td>\n",
       "      <td>1.0</td>\n",
       "      <td>False</td>\n",
       "    </tr>\n",
       "  </tbody>\n",
       "</table>\n",
       "</div>"
      ],
      "text/plain": [
       "         DATE  HOUR       STATION   MGRS     LAT     LONG     ELEV  \\\n",
       "0  2013-01-01     0  690150-93121  11SNT  34.300 -116.166   696.00   \n",
       "1  2013-01-01     0  720165-99999  11SNT  34.264 -116.854  2057.00   \n",
       "2  2013-01-01     0  720267-23224  10SFJ  38.955 -121.081   467.75   \n",
       "3  2013-01-01     0  720406-99999  10SEH  38.150 -122.550     1.00   \n",
       "4  2013-01-01     0  720935-99999  10SEH  38.250 -122.600    27.00   \n",
       "\n",
       "   WIND_ANGLE  WIND_SPEED       SKY_OBS  VISIBILITY_DIST  AIR_TEMP  \\\n",
       "0       340.0    3.600000  22000.000000          16093.0       7.2   \n",
       "1       105.0    1.366667  22000.000000          16093.0       0.0   \n",
       "2       270.0    0.775000  22000.000000          16093.0       6.5   \n",
       "3       130.0    0.500000  22000.000000          16093.0      10.0   \n",
       "4       275.0    1.733333   7953.333333          16093.0      10.0   \n",
       "\n",
       "   AIR_TEMP_DEW  ATM_PRESSURE    YEAR  MONTH  DAY  ACTIVE  \n",
       "0    -11.700000        1023.1  2013.0    1.0  1.0   False  \n",
       "1    -16.000000           NaN  2013.0    1.0  1.0   False  \n",
       "2      2.000000           NaN  2013.0    1.0  1.0   False  \n",
       "3     -1.000000           NaN  2013.0    1.0  1.0   False  \n",
       "4      2.666667           NaN  2013.0    1.0  1.0   False  "
      ]
     },
     "execution_count": 4,
     "metadata": {},
     "output_type": "execute_result"
    }
   ],
   "source": [
    "df.head()"
   ]
  },
  {
   "cell_type": "code",
   "execution_count": 5,
   "id": "9b3847c9",
   "metadata": {},
   "outputs": [],
   "source": [
    "# need to select either random hour in the day or average of several hours\n",
    "# time is in UTC, need to convert to PST"
   ]
  },
  {
   "cell_type": "code",
   "execution_count": 6,
   "id": "2b987456",
   "metadata": {},
   "outputs": [
    {
     "data": {
      "text/plain": [
       "array([ 0,  1,  2,  3,  4,  5,  6,  7,  8,  9, 10, 11, 12, 13, 14, 15, 16,\n",
       "       17, 18, 19, 20, 21, 22, 23], dtype=int64)"
      ]
     },
     "execution_count": 6,
     "metadata": {},
     "output_type": "execute_result"
    }
   ],
   "source": [
    "df.HOUR.unique()"
   ]
  },
  {
   "cell_type": "code",
   "execution_count": 7,
   "id": "9ad7e514",
   "metadata": {},
   "outputs": [
    {
     "data": {
      "text/plain": [
       "0         0 days 00:00:00\n",
       "1         0 days 00:00:00\n",
       "2         0 days 00:00:00\n",
       "3         0 days 00:00:00\n",
       "4         0 days 00:00:00\n",
       "                ...      \n",
       "9881565   0 days 23:00:00\n",
       "9881566   0 days 23:00:00\n",
       "9881567   0 days 23:00:00\n",
       "9881568   0 days 23:00:00\n",
       "9881569   0 days 23:00:00\n",
       "Name: HOUR, Length: 9881570, dtype: timedelta64[ns]"
      ]
     },
     "execution_count": 7,
     "metadata": {},
     "output_type": "execute_result"
    }
   ],
   "source": [
    "# convert to HH:MM:SS rather than integer hour\n",
    "df.HOUR.astype('timedelta64[h]')"
   ]
  },
  {
   "cell_type": "code",
   "execution_count": 8,
   "id": "0f80823d",
   "metadata": {},
   "outputs": [],
   "source": [
    "# combine date and hour\n",
    "df['DT'] = pd.to_datetime(df.DATE) + df.HOUR.astype('timedelta64[h]')"
   ]
  },
  {
   "cell_type": "code",
   "execution_count": 9,
   "id": "b8ccaa15",
   "metadata": {},
   "outputs": [],
   "source": [
    "df['DT'] = pd.to_datetime(df['DT'], utc=True)"
   ]
  },
  {
   "cell_type": "code",
   "execution_count": 10,
   "id": "e6c75d42",
   "metadata": {},
   "outputs": [],
   "source": [
    "# convert to PST, this is where our weather data was collected\n",
    "df['DTP'] = df['DT'].dt.tz_convert('US/Pacific')"
   ]
  },
  {
   "cell_type": "code",
   "execution_count": 11,
   "id": "c1818111",
   "metadata": {},
   "outputs": [
    {
     "data": {
      "text/html": [
       "<div>\n",
       "<style scoped>\n",
       "    .dataframe tbody tr th:only-of-type {\n",
       "        vertical-align: middle;\n",
       "    }\n",
       "\n",
       "    .dataframe tbody tr th {\n",
       "        vertical-align: top;\n",
       "    }\n",
       "\n",
       "    .dataframe thead th {\n",
       "        text-align: right;\n",
       "    }\n",
       "</style>\n",
       "<table border=\"1\" class=\"dataframe\">\n",
       "  <thead>\n",
       "    <tr style=\"text-align: right;\">\n",
       "      <th></th>\n",
       "      <th>DATE</th>\n",
       "      <th>HOUR</th>\n",
       "      <th>STATION</th>\n",
       "      <th>MGRS</th>\n",
       "      <th>LAT</th>\n",
       "      <th>LONG</th>\n",
       "      <th>ELEV</th>\n",
       "      <th>WIND_ANGLE</th>\n",
       "      <th>WIND_SPEED</th>\n",
       "      <th>SKY_OBS</th>\n",
       "      <th>VISIBILITY_DIST</th>\n",
       "      <th>AIR_TEMP</th>\n",
       "      <th>AIR_TEMP_DEW</th>\n",
       "      <th>ATM_PRESSURE</th>\n",
       "      <th>YEAR</th>\n",
       "      <th>MONTH</th>\n",
       "      <th>DAY</th>\n",
       "      <th>ACTIVE</th>\n",
       "      <th>DT</th>\n",
       "      <th>DTP</th>\n",
       "    </tr>\n",
       "  </thead>\n",
       "  <tbody>\n",
       "    <tr>\n",
       "      <th>0</th>\n",
       "      <td>2013-01-01</td>\n",
       "      <td>0</td>\n",
       "      <td>690150-93121</td>\n",
       "      <td>11SNT</td>\n",
       "      <td>34.300</td>\n",
       "      <td>-116.166</td>\n",
       "      <td>696.00</td>\n",
       "      <td>340.0</td>\n",
       "      <td>3.600000</td>\n",
       "      <td>22000.000000</td>\n",
       "      <td>16093.0</td>\n",
       "      <td>7.2</td>\n",
       "      <td>-11.700000</td>\n",
       "      <td>1023.1</td>\n",
       "      <td>2013.0</td>\n",
       "      <td>1.0</td>\n",
       "      <td>1.0</td>\n",
       "      <td>False</td>\n",
       "      <td>2013-01-01 00:00:00+00:00</td>\n",
       "      <td>2012-12-31 16:00:00-08:00</td>\n",
       "    </tr>\n",
       "    <tr>\n",
       "      <th>1</th>\n",
       "      <td>2013-01-01</td>\n",
       "      <td>0</td>\n",
       "      <td>720165-99999</td>\n",
       "      <td>11SNT</td>\n",
       "      <td>34.264</td>\n",
       "      <td>-116.854</td>\n",
       "      <td>2057.00</td>\n",
       "      <td>105.0</td>\n",
       "      <td>1.366667</td>\n",
       "      <td>22000.000000</td>\n",
       "      <td>16093.0</td>\n",
       "      <td>0.0</td>\n",
       "      <td>-16.000000</td>\n",
       "      <td>NaN</td>\n",
       "      <td>2013.0</td>\n",
       "      <td>1.0</td>\n",
       "      <td>1.0</td>\n",
       "      <td>False</td>\n",
       "      <td>2013-01-01 00:00:00+00:00</td>\n",
       "      <td>2012-12-31 16:00:00-08:00</td>\n",
       "    </tr>\n",
       "    <tr>\n",
       "      <th>2</th>\n",
       "      <td>2013-01-01</td>\n",
       "      <td>0</td>\n",
       "      <td>720267-23224</td>\n",
       "      <td>10SFJ</td>\n",
       "      <td>38.955</td>\n",
       "      <td>-121.081</td>\n",
       "      <td>467.75</td>\n",
       "      <td>270.0</td>\n",
       "      <td>0.775000</td>\n",
       "      <td>22000.000000</td>\n",
       "      <td>16093.0</td>\n",
       "      <td>6.5</td>\n",
       "      <td>2.000000</td>\n",
       "      <td>NaN</td>\n",
       "      <td>2013.0</td>\n",
       "      <td>1.0</td>\n",
       "      <td>1.0</td>\n",
       "      <td>False</td>\n",
       "      <td>2013-01-01 00:00:00+00:00</td>\n",
       "      <td>2012-12-31 16:00:00-08:00</td>\n",
       "    </tr>\n",
       "    <tr>\n",
       "      <th>3</th>\n",
       "      <td>2013-01-01</td>\n",
       "      <td>0</td>\n",
       "      <td>720406-99999</td>\n",
       "      <td>10SEH</td>\n",
       "      <td>38.150</td>\n",
       "      <td>-122.550</td>\n",
       "      <td>1.00</td>\n",
       "      <td>130.0</td>\n",
       "      <td>0.500000</td>\n",
       "      <td>22000.000000</td>\n",
       "      <td>16093.0</td>\n",
       "      <td>10.0</td>\n",
       "      <td>-1.000000</td>\n",
       "      <td>NaN</td>\n",
       "      <td>2013.0</td>\n",
       "      <td>1.0</td>\n",
       "      <td>1.0</td>\n",
       "      <td>False</td>\n",
       "      <td>2013-01-01 00:00:00+00:00</td>\n",
       "      <td>2012-12-31 16:00:00-08:00</td>\n",
       "    </tr>\n",
       "    <tr>\n",
       "      <th>4</th>\n",
       "      <td>2013-01-01</td>\n",
       "      <td>0</td>\n",
       "      <td>720935-99999</td>\n",
       "      <td>10SEH</td>\n",
       "      <td>38.250</td>\n",
       "      <td>-122.600</td>\n",
       "      <td>27.00</td>\n",
       "      <td>275.0</td>\n",
       "      <td>1.733333</td>\n",
       "      <td>7953.333333</td>\n",
       "      <td>16093.0</td>\n",
       "      <td>10.0</td>\n",
       "      <td>2.666667</td>\n",
       "      <td>NaN</td>\n",
       "      <td>2013.0</td>\n",
       "      <td>1.0</td>\n",
       "      <td>1.0</td>\n",
       "      <td>False</td>\n",
       "      <td>2013-01-01 00:00:00+00:00</td>\n",
       "      <td>2012-12-31 16:00:00-08:00</td>\n",
       "    </tr>\n",
       "  </tbody>\n",
       "</table>\n",
       "</div>"
      ],
      "text/plain": [
       "         DATE  HOUR       STATION   MGRS     LAT     LONG     ELEV  \\\n",
       "0  2013-01-01     0  690150-93121  11SNT  34.300 -116.166   696.00   \n",
       "1  2013-01-01     0  720165-99999  11SNT  34.264 -116.854  2057.00   \n",
       "2  2013-01-01     0  720267-23224  10SFJ  38.955 -121.081   467.75   \n",
       "3  2013-01-01     0  720406-99999  10SEH  38.150 -122.550     1.00   \n",
       "4  2013-01-01     0  720935-99999  10SEH  38.250 -122.600    27.00   \n",
       "\n",
       "   WIND_ANGLE  WIND_SPEED       SKY_OBS  VISIBILITY_DIST  AIR_TEMP  \\\n",
       "0       340.0    3.600000  22000.000000          16093.0       7.2   \n",
       "1       105.0    1.366667  22000.000000          16093.0       0.0   \n",
       "2       270.0    0.775000  22000.000000          16093.0       6.5   \n",
       "3       130.0    0.500000  22000.000000          16093.0      10.0   \n",
       "4       275.0    1.733333   7953.333333          16093.0      10.0   \n",
       "\n",
       "   AIR_TEMP_DEW  ATM_PRESSURE    YEAR  MONTH  DAY  ACTIVE  \\\n",
       "0    -11.700000        1023.1  2013.0    1.0  1.0   False   \n",
       "1    -16.000000           NaN  2013.0    1.0  1.0   False   \n",
       "2      2.000000           NaN  2013.0    1.0  1.0   False   \n",
       "3     -1.000000           NaN  2013.0    1.0  1.0   False   \n",
       "4      2.666667           NaN  2013.0    1.0  1.0   False   \n",
       "\n",
       "                         DT                       DTP  \n",
       "0 2013-01-01 00:00:00+00:00 2012-12-31 16:00:00-08:00  \n",
       "1 2013-01-01 00:00:00+00:00 2012-12-31 16:00:00-08:00  \n",
       "2 2013-01-01 00:00:00+00:00 2012-12-31 16:00:00-08:00  \n",
       "3 2013-01-01 00:00:00+00:00 2012-12-31 16:00:00-08:00  \n",
       "4 2013-01-01 00:00:00+00:00 2012-12-31 16:00:00-08:00  "
      ]
     },
     "execution_count": 11,
     "metadata": {},
     "output_type": "execute_result"
    }
   ],
   "source": [
    "df.head()"
   ]
  },
  {
   "cell_type": "code",
   "execution_count": 12,
   "id": "1addf22a",
   "metadata": {},
   "outputs": [],
   "source": [
    "# choose 1:00 PM for simplicity, created a mid day dataframe\n",
    "dfmid = df[df['DTP'].dt.hour == 13]"
   ]
  },
  {
   "cell_type": "code",
   "execution_count": 13,
   "id": "f7855a82",
   "metadata": {},
   "outputs": [
    {
     "name": "stdout",
     "output_type": "stream",
     "text": [
      "<class 'pandas.core.frame.DataFrame'>\n",
      "Int64Index: 416538 entries, 2669 to 9881335\n",
      "Data columns (total 20 columns):\n",
      " #   Column           Non-Null Count   Dtype                     \n",
      "---  ------           --------------   -----                     \n",
      " 0   DATE             416538 non-null  object                    \n",
      " 1   HOUR             416538 non-null  int64                     \n",
      " 2   STATION          416538 non-null  object                    \n",
      " 3   MGRS             416538 non-null  object                    \n",
      " 4   LAT              416538 non-null  float64                   \n",
      " 5   LONG             416538 non-null  float64                   \n",
      " 6   ELEV             416015 non-null  float64                   \n",
      " 7   WIND_ANGLE       330386 non-null  float64                   \n",
      " 8   WIND_SPEED       411207 non-null  float64                   \n",
      " 9   SKY_OBS          310135 non-null  float64                   \n",
      " 10  VISIBILITY_DIST  312774 non-null  float64                   \n",
      " 11  AIR_TEMP         396284 non-null  float64                   \n",
      " 12  AIR_TEMP_DEW     319845 non-null  float64                   \n",
      " 13  ATM_PRESSURE     326905 non-null  float64                   \n",
      " 14  YEAR             416538 non-null  float64                   \n",
      " 15  MONTH            416538 non-null  float64                   \n",
      " 16  DAY              416538 non-null  float64                   \n",
      " 17  ACTIVE           416538 non-null  bool                      \n",
      " 18  DT               416538 non-null  datetime64[ns, UTC]       \n",
      " 19  DTP              416538 non-null  datetime64[ns, US/Pacific]\n",
      "dtypes: bool(1), datetime64[ns, US/Pacific](1), datetime64[ns, UTC](1), float64(13), int64(1), object(3)\n",
      "memory usage: 64.0+ MB\n"
     ]
    }
   ],
   "source": [
    "dfmid.info()"
   ]
  },
  {
   "cell_type": "code",
   "execution_count": 14,
   "id": "99a79e2e",
   "metadata": {},
   "outputs": [
    {
     "name": "stderr",
     "output_type": "stream",
     "text": [
      "C:\\Users\\tjlog\\AppData\\Local\\Temp\\ipykernel_5620\\804033812.py:2: SettingWithCopyWarning: \n",
      "A value is trying to be set on a copy of a slice from a DataFrame\n",
      "\n",
      "See the caveats in the documentation: https://pandas.pydata.org/pandas-docs/stable/user_guide/indexing.html#returning-a-view-versus-a-copy\n",
      "  dfmid.fillna(0, inplace= True)\n"
     ]
    }
   ],
   "source": [
    "# filling 0 becasue much of the wind data is nan where there was no wind\n",
    "dfmid.fillna(0, inplace= True)"
   ]
  },
  {
   "cell_type": "code",
   "execution_count": 15,
   "id": "38f174a3",
   "metadata": {},
   "outputs": [
    {
     "data": {
      "text/plain": [
       "False    410794\n",
       "True       5744\n",
       "Name: ACTIVE, dtype: int64"
      ]
     },
     "execution_count": 15,
     "metadata": {},
     "output_type": "execute_result"
    }
   ],
   "source": [
    "dfmid['ACTIVE'].value_counts()"
   ]
  },
  {
   "cell_type": "code",
   "execution_count": 16,
   "id": "e98f0695",
   "metadata": {},
   "outputs": [],
   "source": [
    "# dates with active fires\n",
    "dfmid_act = dfmid[dfmid['ACTIVE'] ==1]"
   ]
  },
  {
   "cell_type": "code",
   "execution_count": 17,
   "id": "a065ace7",
   "metadata": {},
   "outputs": [
    {
     "name": "stdout",
     "output_type": "stream",
     "text": [
      "<class 'pandas.core.frame.DataFrame'>\n",
      "Int64Index: 5744 entries, 168815 to 9638695\n",
      "Data columns (total 20 columns):\n",
      " #   Column           Non-Null Count  Dtype                     \n",
      "---  ------           --------------  -----                     \n",
      " 0   DATE             5744 non-null   object                    \n",
      " 1   HOUR             5744 non-null   int64                     \n",
      " 2   STATION          5744 non-null   object                    \n",
      " 3   MGRS             5744 non-null   object                    \n",
      " 4   LAT              5744 non-null   float64                   \n",
      " 5   LONG             5744 non-null   float64                   \n",
      " 6   ELEV             5744 non-null   float64                   \n",
      " 7   WIND_ANGLE       5744 non-null   float64                   \n",
      " 8   WIND_SPEED       5744 non-null   float64                   \n",
      " 9   SKY_OBS          5744 non-null   float64                   \n",
      " 10  VISIBILITY_DIST  5744 non-null   float64                   \n",
      " 11  AIR_TEMP         5744 non-null   float64                   \n",
      " 12  AIR_TEMP_DEW     5744 non-null   float64                   \n",
      " 13  ATM_PRESSURE     5744 non-null   float64                   \n",
      " 14  YEAR             5744 non-null   float64                   \n",
      " 15  MONTH            5744 non-null   float64                   \n",
      " 16  DAY              5744 non-null   float64                   \n",
      " 17  ACTIVE           5744 non-null   bool                      \n",
      " 18  DT               5744 non-null   datetime64[ns, UTC]       \n",
      " 19  DTP              5744 non-null   datetime64[ns, US/Pacific]\n",
      "dtypes: bool(1), datetime64[ns, US/Pacific](1), datetime64[ns, UTC](1), float64(13), int64(1), object(3)\n",
      "memory usage: 903.1+ KB\n"
     ]
    }
   ],
   "source": [
    "dfmid_act.info()"
   ]
  },
  {
   "cell_type": "code",
   "execution_count": 18,
   "id": "558af546",
   "metadata": {},
   "outputs": [],
   "source": [
    "# non active, choose 7,000 to balance dataset\n",
    "dfmid_non = dfmid[dfmid['ACTIVE'] == 0].sample(n=7000)"
   ]
  },
  {
   "cell_type": "code",
   "execution_count": 19,
   "id": "d18b96f0",
   "metadata": {},
   "outputs": [
    {
     "name": "stdout",
     "output_type": "stream",
     "text": [
      "<class 'pandas.core.frame.DataFrame'>\n",
      "Int64Index: 7000 entries, 9085293 to 9516641\n",
      "Data columns (total 20 columns):\n",
      " #   Column           Non-Null Count  Dtype                     \n",
      "---  ------           --------------  -----                     \n",
      " 0   DATE             7000 non-null   object                    \n",
      " 1   HOUR             7000 non-null   int64                     \n",
      " 2   STATION          7000 non-null   object                    \n",
      " 3   MGRS             7000 non-null   object                    \n",
      " 4   LAT              7000 non-null   float64                   \n",
      " 5   LONG             7000 non-null   float64                   \n",
      " 6   ELEV             7000 non-null   float64                   \n",
      " 7   WIND_ANGLE       7000 non-null   float64                   \n",
      " 8   WIND_SPEED       7000 non-null   float64                   \n",
      " 9   SKY_OBS          7000 non-null   float64                   \n",
      " 10  VISIBILITY_DIST  7000 non-null   float64                   \n",
      " 11  AIR_TEMP         7000 non-null   float64                   \n",
      " 12  AIR_TEMP_DEW     7000 non-null   float64                   \n",
      " 13  ATM_PRESSURE     7000 non-null   float64                   \n",
      " 14  YEAR             7000 non-null   float64                   \n",
      " 15  MONTH            7000 non-null   float64                   \n",
      " 16  DAY              7000 non-null   float64                   \n",
      " 17  ACTIVE           7000 non-null   bool                      \n",
      " 18  DT               7000 non-null   datetime64[ns, UTC]       \n",
      " 19  DTP              7000 non-null   datetime64[ns, US/Pacific]\n",
      "dtypes: bool(1), datetime64[ns, US/Pacific](1), datetime64[ns, UTC](1), float64(13), int64(1), object(3)\n",
      "memory usage: 1.1+ MB\n"
     ]
    }
   ],
   "source": [
    "dfmid_non.info()"
   ]
  },
  {
   "cell_type": "code",
   "execution_count": 20,
   "id": "3bd13322",
   "metadata": {},
   "outputs": [],
   "source": [
    "# join the active and non active datasets, to create a dataset for logistic regression (LR)\n",
    "df_LR = pd.concat([dfmid_act, dfmid_non])"
   ]
  },
  {
   "cell_type": "code",
   "execution_count": 21,
   "id": "6ddeee81",
   "metadata": {},
   "outputs": [
    {
     "name": "stdout",
     "output_type": "stream",
     "text": [
      "<class 'pandas.core.frame.DataFrame'>\n",
      "Int64Index: 12744 entries, 168815 to 9516641\n",
      "Data columns (total 20 columns):\n",
      " #   Column           Non-Null Count  Dtype                     \n",
      "---  ------           --------------  -----                     \n",
      " 0   DATE             12744 non-null  object                    \n",
      " 1   HOUR             12744 non-null  int64                     \n",
      " 2   STATION          12744 non-null  object                    \n",
      " 3   MGRS             12744 non-null  object                    \n",
      " 4   LAT              12744 non-null  float64                   \n",
      " 5   LONG             12744 non-null  float64                   \n",
      " 6   ELEV             12744 non-null  float64                   \n",
      " 7   WIND_ANGLE       12744 non-null  float64                   \n",
      " 8   WIND_SPEED       12744 non-null  float64                   \n",
      " 9   SKY_OBS          12744 non-null  float64                   \n",
      " 10  VISIBILITY_DIST  12744 non-null  float64                   \n",
      " 11  AIR_TEMP         12744 non-null  float64                   \n",
      " 12  AIR_TEMP_DEW     12744 non-null  float64                   \n",
      " 13  ATM_PRESSURE     12744 non-null  float64                   \n",
      " 14  YEAR             12744 non-null  float64                   \n",
      " 15  MONTH            12744 non-null  float64                   \n",
      " 16  DAY              12744 non-null  float64                   \n",
      " 17  ACTIVE           12744 non-null  bool                      \n",
      " 18  DT               12744 non-null  datetime64[ns, UTC]       \n",
      " 19  DTP              12744 non-null  datetime64[ns, US/Pacific]\n",
      "dtypes: bool(1), datetime64[ns, US/Pacific](1), datetime64[ns, UTC](1), float64(13), int64(1), object(3)\n",
      "memory usage: 2.0+ MB\n"
     ]
    }
   ],
   "source": [
    "df_LR.info()"
   ]
  },
  {
   "cell_type": "code",
   "execution_count": 22,
   "id": "4c4e4f96",
   "metadata": {},
   "outputs": [
    {
     "data": {
      "text/plain": [
       "False    7000\n",
       "True     5744\n",
       "Name: ACTIVE, dtype: int64"
      ]
     },
     "execution_count": 22,
     "metadata": {},
     "output_type": "execute_result"
    }
   ],
   "source": [
    "df_LR['ACTIVE'].value_counts()"
   ]
  },
  {
   "cell_type": "code",
   "execution_count": 23,
   "id": "81531588",
   "metadata": {},
   "outputs": [],
   "source": [
    "# https://towardsdatascience.com/logistic-regression-using-python-sklearn-numpy-mnist-handwriting-recognition-matplotlib-a6b31e2b166a\n",
    "# good reference material"
   ]
  },
  {
   "cell_type": "code",
   "execution_count": 24,
   "id": "da84fb5c",
   "metadata": {},
   "outputs": [
    {
     "data": {
      "text/html": [
       "<div>\n",
       "<style scoped>\n",
       "    .dataframe tbody tr th:only-of-type {\n",
       "        vertical-align: middle;\n",
       "    }\n",
       "\n",
       "    .dataframe tbody tr th {\n",
       "        vertical-align: top;\n",
       "    }\n",
       "\n",
       "    .dataframe thead th {\n",
       "        text-align: right;\n",
       "    }\n",
       "</style>\n",
       "<table border=\"1\" class=\"dataframe\">\n",
       "  <thead>\n",
       "    <tr style=\"text-align: right;\">\n",
       "      <th></th>\n",
       "      <th>DATE</th>\n",
       "      <th>HOUR</th>\n",
       "      <th>STATION</th>\n",
       "      <th>MGRS</th>\n",
       "      <th>LAT</th>\n",
       "      <th>LONG</th>\n",
       "      <th>ELEV</th>\n",
       "      <th>WIND_ANGLE</th>\n",
       "      <th>WIND_SPEED</th>\n",
       "      <th>SKY_OBS</th>\n",
       "      <th>VISIBILITY_DIST</th>\n",
       "      <th>AIR_TEMP</th>\n",
       "      <th>AIR_TEMP_DEW</th>\n",
       "      <th>ATM_PRESSURE</th>\n",
       "      <th>YEAR</th>\n",
       "      <th>MONTH</th>\n",
       "      <th>DAY</th>\n",
       "      <th>ACTIVE</th>\n",
       "      <th>DT</th>\n",
       "      <th>DTP</th>\n",
       "    </tr>\n",
       "  </thead>\n",
       "  <tbody>\n",
       "    <tr>\n",
       "      <th>168815</th>\n",
       "      <td>2013-02-24</td>\n",
       "      <td>21</td>\n",
       "      <td>999999-53139</td>\n",
       "      <td>11SMA</td>\n",
       "      <td>36.602</td>\n",
       "      <td>-117.145</td>\n",
       "      <td>26.0</td>\n",
       "      <td>0.000000</td>\n",
       "      <td>5.800000</td>\n",
       "      <td>0.0</td>\n",
       "      <td>0.000000</td>\n",
       "      <td>0.000000</td>\n",
       "      <td>0.000000</td>\n",
       "      <td>0.0</td>\n",
       "      <td>2013.0</td>\n",
       "      <td>2.0</td>\n",
       "      <td>24.0</td>\n",
       "      <td>True</td>\n",
       "      <td>2013-02-24 21:00:00+00:00</td>\n",
       "      <td>2013-02-24 13:00:00-08:00</td>\n",
       "    </tr>\n",
       "    <tr>\n",
       "      <th>338522</th>\n",
       "      <td>2013-04-20</td>\n",
       "      <td>20</td>\n",
       "      <td>690150-93121</td>\n",
       "      <td>11SNT</td>\n",
       "      <td>34.300</td>\n",
       "      <td>-116.166</td>\n",
       "      <td>696.0</td>\n",
       "      <td>0.000000</td>\n",
       "      <td>2.600000</td>\n",
       "      <td>22000.0</td>\n",
       "      <td>16093.000000</td>\n",
       "      <td>28.300000</td>\n",
       "      <td>-6.700000</td>\n",
       "      <td>1014.4</td>\n",
       "      <td>2013.0</td>\n",
       "      <td>4.0</td>\n",
       "      <td>20.0</td>\n",
       "      <td>True</td>\n",
       "      <td>2013-04-20 20:00:00+00:00</td>\n",
       "      <td>2013-04-20 13:00:00-07:00</td>\n",
       "    </tr>\n",
       "    <tr>\n",
       "      <th>338523</th>\n",
       "      <td>2013-04-20</td>\n",
       "      <td>20</td>\n",
       "      <td>720165-99999</td>\n",
       "      <td>11SNT</td>\n",
       "      <td>34.264</td>\n",
       "      <td>-116.854</td>\n",
       "      <td>2057.0</td>\n",
       "      <td>50.000000</td>\n",
       "      <td>3.766667</td>\n",
       "      <td>22000.0</td>\n",
       "      <td>16093.000000</td>\n",
       "      <td>16.333333</td>\n",
       "      <td>-11.000000</td>\n",
       "      <td>0.0</td>\n",
       "      <td>2013.0</td>\n",
       "      <td>4.0</td>\n",
       "      <td>20.0</td>\n",
       "      <td>True</td>\n",
       "      <td>2013-04-20 20:00:00+00:00</td>\n",
       "      <td>2013-04-20 13:00:00-07:00</td>\n",
       "    </tr>\n",
       "    <tr>\n",
       "      <th>338533</th>\n",
       "      <td>2013-04-20</td>\n",
       "      <td>20</td>\n",
       "      <td>722868-93138</td>\n",
       "      <td>11SNT</td>\n",
       "      <td>33.822</td>\n",
       "      <td>-116.504</td>\n",
       "      <td>137.0</td>\n",
       "      <td>100.000000</td>\n",
       "      <td>4.100000</td>\n",
       "      <td>22000.0</td>\n",
       "      <td>16093.000000</td>\n",
       "      <td>32.800000</td>\n",
       "      <td>-7.200000</td>\n",
       "      <td>1011.5</td>\n",
       "      <td>2013.0</td>\n",
       "      <td>4.0</td>\n",
       "      <td>20.0</td>\n",
       "      <td>True</td>\n",
       "      <td>2013-04-20 20:00:00+00:00</td>\n",
       "      <td>2013-04-20 13:00:00-07:00</td>\n",
       "    </tr>\n",
       "    <tr>\n",
       "      <th>369279</th>\n",
       "      <td>2013-04-30</td>\n",
       "      <td>20</td>\n",
       "      <td>720406-99999</td>\n",
       "      <td>10SEH</td>\n",
       "      <td>38.150</td>\n",
       "      <td>-122.550</td>\n",
       "      <td>1.0</td>\n",
       "      <td>313.333333</td>\n",
       "      <td>5.133333</td>\n",
       "      <td>22000.0</td>\n",
       "      <td>11667.333333</td>\n",
       "      <td>26.666667</td>\n",
       "      <td>4.333333</td>\n",
       "      <td>0.0</td>\n",
       "      <td>2013.0</td>\n",
       "      <td>4.0</td>\n",
       "      <td>30.0</td>\n",
       "      <td>True</td>\n",
       "      <td>2013-04-30 20:00:00+00:00</td>\n",
       "      <td>2013-04-30 13:00:00-07:00</td>\n",
       "    </tr>\n",
       "  </tbody>\n",
       "</table>\n",
       "</div>"
      ],
      "text/plain": [
       "              DATE  HOUR       STATION   MGRS     LAT     LONG    ELEV  \\\n",
       "168815  2013-02-24    21  999999-53139  11SMA  36.602 -117.145    26.0   \n",
       "338522  2013-04-20    20  690150-93121  11SNT  34.300 -116.166   696.0   \n",
       "338523  2013-04-20    20  720165-99999  11SNT  34.264 -116.854  2057.0   \n",
       "338533  2013-04-20    20  722868-93138  11SNT  33.822 -116.504   137.0   \n",
       "369279  2013-04-30    20  720406-99999  10SEH  38.150 -122.550     1.0   \n",
       "\n",
       "        WIND_ANGLE  WIND_SPEED  SKY_OBS  VISIBILITY_DIST   AIR_TEMP  \\\n",
       "168815    0.000000    5.800000      0.0         0.000000   0.000000   \n",
       "338522    0.000000    2.600000  22000.0     16093.000000  28.300000   \n",
       "338523   50.000000    3.766667  22000.0     16093.000000  16.333333   \n",
       "338533  100.000000    4.100000  22000.0     16093.000000  32.800000   \n",
       "369279  313.333333    5.133333  22000.0     11667.333333  26.666667   \n",
       "\n",
       "        AIR_TEMP_DEW  ATM_PRESSURE    YEAR  MONTH   DAY  ACTIVE  \\\n",
       "168815      0.000000           0.0  2013.0    2.0  24.0    True   \n",
       "338522     -6.700000        1014.4  2013.0    4.0  20.0    True   \n",
       "338523    -11.000000           0.0  2013.0    4.0  20.0    True   \n",
       "338533     -7.200000        1011.5  2013.0    4.0  20.0    True   \n",
       "369279      4.333333           0.0  2013.0    4.0  30.0    True   \n",
       "\n",
       "                              DT                       DTP  \n",
       "168815 2013-02-24 21:00:00+00:00 2013-02-24 13:00:00-08:00  \n",
       "338522 2013-04-20 20:00:00+00:00 2013-04-20 13:00:00-07:00  \n",
       "338523 2013-04-20 20:00:00+00:00 2013-04-20 13:00:00-07:00  \n",
       "338533 2013-04-20 20:00:00+00:00 2013-04-20 13:00:00-07:00  \n",
       "369279 2013-04-30 20:00:00+00:00 2013-04-30 13:00:00-07:00  "
      ]
     },
     "execution_count": 24,
     "metadata": {},
     "output_type": "execute_result"
    }
   ],
   "source": [
    "df_LR.head()"
   ]
  },
  {
   "cell_type": "code",
   "execution_count": 25,
   "id": "5c45cd36",
   "metadata": {},
   "outputs": [],
   "source": [
    "df_LR = df_LR[['AIR_TEMP', 'WIND_SPEED', 'MGRS', 'ACTIVE']]"
   ]
  },
  {
   "cell_type": "code",
   "execution_count": 26,
   "id": "cb19219b",
   "metadata": {},
   "outputs": [],
   "source": [
    "dum = pd.get_dummies(df_LR['MGRS'])"
   ]
  },
  {
   "cell_type": "code",
   "execution_count": 27,
   "id": "f54a63c5",
   "metadata": {},
   "outputs": [],
   "source": [
    "df_LR = df_LR.join(dum)"
   ]
  },
  {
   "cell_type": "code",
   "execution_count": 28,
   "id": "ad7d6312",
   "metadata": {},
   "outputs": [],
   "source": [
    "from sklearn import linear_model\n",
    "from sklearn import preprocessing\n",
    "from sklearn.linear_model import LogisticRegression\n",
    "from sklearn.utils import shuffle\n",
    "from sklearn.preprocessing import LabelEncoder"
   ]
  },
  {
   "cell_type": "code",
   "execution_count": 29,
   "id": "b171caa4",
   "metadata": {},
   "outputs": [],
   "source": [
    "# encode MGRS location\n",
    "# le = LabelEncoder()\n",
    "# df_LR['MGRS_D'] = le.fit_transform(df_LR['MGRS'])"
   ]
  },
  {
   "cell_type": "code",
   "execution_count": 30,
   "id": "d3dc2547",
   "metadata": {},
   "outputs": [],
   "source": [
    "# mix up the data\n",
    "df_LR = shuffle(df_LR)"
   ]
  },
  {
   "cell_type": "code",
   "execution_count": 31,
   "id": "c9908c9e",
   "metadata": {},
   "outputs": [
    {
     "data": {
      "text/plain": [
       "(12744, 52)"
      ]
     },
     "execution_count": 31,
     "metadata": {},
     "output_type": "execute_result"
    }
   ],
   "source": [
    "df_LR.shape"
   ]
  },
  {
   "cell_type": "code",
   "execution_count": 32,
   "id": "9c716241",
   "metadata": {},
   "outputs": [],
   "source": [
    "df_LR_train = df_LR[:11444]"
   ]
  },
  {
   "cell_type": "code",
   "execution_count": 33,
   "id": "db805e0a",
   "metadata": {},
   "outputs": [],
   "source": [
    "df_LR_test = df_LR[11444:] # 10%"
   ]
  },
  {
   "cell_type": "code",
   "execution_count": 34,
   "id": "39d5918b",
   "metadata": {},
   "outputs": [
    {
     "data": {
      "text/plain": [
       "False    6286\n",
       "True     5158\n",
       "Name: ACTIVE, dtype: int64"
      ]
     },
     "execution_count": 34,
     "metadata": {},
     "output_type": "execute_result"
    }
   ],
   "source": [
    "df_LR_train['ACTIVE'].value_counts()"
   ]
  },
  {
   "cell_type": "code",
   "execution_count": 35,
   "id": "c3f2c4b8",
   "metadata": {},
   "outputs": [
    {
     "data": {
      "text/plain": [
       "False    714\n",
       "True     586\n",
       "Name: ACTIVE, dtype: int64"
      ]
     },
     "execution_count": 35,
     "metadata": {},
     "output_type": "execute_result"
    }
   ],
   "source": [
    "df_LR_test['ACTIVE'].value_counts() # nice mix"
   ]
  },
  {
   "cell_type": "code",
   "execution_count": 36,
   "id": "d141961c",
   "metadata": {},
   "outputs": [],
   "source": [
    "X = df_LR_train.drop(['ACTIVE', 'MGRS'], axis=1)\n",
    "y = df_LR_train['ACTIVE']"
   ]
  },
  {
   "cell_type": "code",
   "execution_count": 37,
   "id": "52e56a48",
   "metadata": {},
   "outputs": [
    {
     "name": "stderr",
     "output_type": "stream",
     "text": [
      "C:\\Users\\tjlog\\AppData\\Local\\Programs\\Python\\Python310\\lib\\site-packages\\sklearn\\linear_model\\_logistic.py:814: ConvergenceWarning: lbfgs failed to converge (status=1):\n",
      "STOP: TOTAL NO. of ITERATIONS REACHED LIMIT.\n",
      "\n",
      "Increase the number of iterations (max_iter) or scale the data as shown in:\n",
      "    https://scikit-learn.org/stable/modules/preprocessing.html\n",
      "Please also refer to the documentation for alternative solver options:\n",
      "    https://scikit-learn.org/stable/modules/linear_model.html#logistic-regression\n",
      "  n_iter_i = _check_optimize_result(\n"
     ]
    }
   ],
   "source": [
    "LR = LogisticRegression().fit(X, y)"
   ]
  },
  {
   "cell_type": "code",
   "execution_count": 38,
   "id": "eee694d2",
   "metadata": {},
   "outputs": [],
   "source": [
    "# may need to try a diff optimizer\n",
    "# https://stackoverflow.com/questions/62658215/convergencewarning-lbfgs-failed-to-converge-status-1-stop-total-no-of-iter"
   ]
  },
  {
   "cell_type": "code",
   "execution_count": 39,
   "id": "673c2271",
   "metadata": {},
   "outputs": [],
   "source": [
    "LR = LogisticRegression(solver='lbfgs', max_iter=1000).fit(X, y)"
   ]
  },
  {
   "cell_type": "code",
   "execution_count": 40,
   "id": "9df719a9",
   "metadata": {},
   "outputs": [],
   "source": [
    "x_test = df_LR_test.drop(['ACTIVE', 'MGRS'], axis=1)\n",
    "y_test = df_LR_test['ACTIVE']"
   ]
  },
  {
   "cell_type": "code",
   "execution_count": 41,
   "id": "622830a7",
   "metadata": {},
   "outputs": [
    {
     "data": {
      "text/html": [
       "<div>\n",
       "<style scoped>\n",
       "    .dataframe tbody tr th:only-of-type {\n",
       "        vertical-align: middle;\n",
       "    }\n",
       "\n",
       "    .dataframe tbody tr th {\n",
       "        vertical-align: top;\n",
       "    }\n",
       "\n",
       "    .dataframe thead th {\n",
       "        text-align: right;\n",
       "    }\n",
       "</style>\n",
       "<table border=\"1\" class=\"dataframe\">\n",
       "  <thead>\n",
       "    <tr style=\"text-align: right;\">\n",
       "      <th></th>\n",
       "      <th>AIR_TEMP</th>\n",
       "      <th>WIND_SPEED</th>\n",
       "      <th>10SDH</th>\n",
       "      <th>10SDJ</th>\n",
       "      <th>10SEF</th>\n",
       "      <th>10SEG</th>\n",
       "      <th>10SEH</th>\n",
       "      <th>10SEK</th>\n",
       "      <th>10SFF</th>\n",
       "      <th>10SFG</th>\n",
       "      <th>...</th>\n",
       "      <th>11SMT</th>\n",
       "      <th>11SMU</th>\n",
       "      <th>11SMV</th>\n",
       "      <th>11SNR</th>\n",
       "      <th>11SNS</th>\n",
       "      <th>11SNT</th>\n",
       "      <th>11SNU</th>\n",
       "      <th>11SPS</th>\n",
       "      <th>11SQT</th>\n",
       "      <th>11SQU</th>\n",
       "    </tr>\n",
       "  </thead>\n",
       "  <tbody>\n",
       "    <tr>\n",
       "      <th>3916679</th>\n",
       "      <td>18.35</td>\n",
       "      <td>5.7</td>\n",
       "      <td>0</td>\n",
       "      <td>0</td>\n",
       "      <td>0</td>\n",
       "      <td>0</td>\n",
       "      <td>0</td>\n",
       "      <td>0</td>\n",
       "      <td>0</td>\n",
       "      <td>0</td>\n",
       "      <td>...</td>\n",
       "      <td>0</td>\n",
       "      <td>0</td>\n",
       "      <td>0</td>\n",
       "      <td>0</td>\n",
       "      <td>0</td>\n",
       "      <td>0</td>\n",
       "      <td>0</td>\n",
       "      <td>0</td>\n",
       "      <td>0</td>\n",
       "      <td>0</td>\n",
       "    </tr>\n",
       "    <tr>\n",
       "      <th>181155</th>\n",
       "      <td>20.00</td>\n",
       "      <td>3.1</td>\n",
       "      <td>0</td>\n",
       "      <td>0</td>\n",
       "      <td>0</td>\n",
       "      <td>0</td>\n",
       "      <td>0</td>\n",
       "      <td>0</td>\n",
       "      <td>0</td>\n",
       "      <td>0</td>\n",
       "      <td>...</td>\n",
       "      <td>0</td>\n",
       "      <td>0</td>\n",
       "      <td>0</td>\n",
       "      <td>0</td>\n",
       "      <td>0</td>\n",
       "      <td>0</td>\n",
       "      <td>0</td>\n",
       "      <td>0</td>\n",
       "      <td>0</td>\n",
       "      <td>0</td>\n",
       "    </tr>\n",
       "    <tr>\n",
       "      <th>813252</th>\n",
       "      <td>29.40</td>\n",
       "      <td>4.1</td>\n",
       "      <td>0</td>\n",
       "      <td>0</td>\n",
       "      <td>0</td>\n",
       "      <td>0</td>\n",
       "      <td>0</td>\n",
       "      <td>0</td>\n",
       "      <td>0</td>\n",
       "      <td>0</td>\n",
       "      <td>...</td>\n",
       "      <td>1</td>\n",
       "      <td>0</td>\n",
       "      <td>0</td>\n",
       "      <td>0</td>\n",
       "      <td>0</td>\n",
       "      <td>0</td>\n",
       "      <td>0</td>\n",
       "      <td>0</td>\n",
       "      <td>0</td>\n",
       "      <td>0</td>\n",
       "    </tr>\n",
       "    <tr>\n",
       "      <th>8119832</th>\n",
       "      <td>36.10</td>\n",
       "      <td>1.5</td>\n",
       "      <td>0</td>\n",
       "      <td>0</td>\n",
       "      <td>0</td>\n",
       "      <td>0</td>\n",
       "      <td>0</td>\n",
       "      <td>0</td>\n",
       "      <td>0</td>\n",
       "      <td>0</td>\n",
       "      <td>...</td>\n",
       "      <td>0</td>\n",
       "      <td>0</td>\n",
       "      <td>0</td>\n",
       "      <td>0</td>\n",
       "      <td>0</td>\n",
       "      <td>0</td>\n",
       "      <td>0</td>\n",
       "      <td>0</td>\n",
       "      <td>0</td>\n",
       "      <td>0</td>\n",
       "    </tr>\n",
       "    <tr>\n",
       "      <th>1631752</th>\n",
       "      <td>25.60</td>\n",
       "      <td>6.7</td>\n",
       "      <td>0</td>\n",
       "      <td>0</td>\n",
       "      <td>0</td>\n",
       "      <td>0</td>\n",
       "      <td>0</td>\n",
       "      <td>0</td>\n",
       "      <td>0</td>\n",
       "      <td>0</td>\n",
       "      <td>...</td>\n",
       "      <td>0</td>\n",
       "      <td>0</td>\n",
       "      <td>0</td>\n",
       "      <td>0</td>\n",
       "      <td>0</td>\n",
       "      <td>0</td>\n",
       "      <td>0</td>\n",
       "      <td>0</td>\n",
       "      <td>0</td>\n",
       "      <td>0</td>\n",
       "    </tr>\n",
       "  </tbody>\n",
       "</table>\n",
       "<p>5 rows × 50 columns</p>\n",
       "</div>"
      ],
      "text/plain": [
       "         AIR_TEMP  WIND_SPEED  10SDH  10SDJ  10SEF  10SEG  10SEH  10SEK  \\\n",
       "3916679     18.35         5.7      0      0      0      0      0      0   \n",
       "181155      20.00         3.1      0      0      0      0      0      0   \n",
       "813252      29.40         4.1      0      0      0      0      0      0   \n",
       "8119832     36.10         1.5      0      0      0      0      0      0   \n",
       "1631752     25.60         6.7      0      0      0      0      0      0   \n",
       "\n",
       "         10SFF  10SFG  ...  11SMT  11SMU  11SMV  11SNR  11SNS  11SNT  11SNU  \\\n",
       "3916679      0      0  ...      0      0      0      0      0      0      0   \n",
       "181155       0      0  ...      0      0      0      0      0      0      0   \n",
       "813252       0      0  ...      1      0      0      0      0      0      0   \n",
       "8119832      0      0  ...      0      0      0      0      0      0      0   \n",
       "1631752      0      0  ...      0      0      0      0      0      0      0   \n",
       "\n",
       "         11SPS  11SQT  11SQU  \n",
       "3916679      0      0      0  \n",
       "181155       0      0      0  \n",
       "813252       0      0      0  \n",
       "8119832      0      0      0  \n",
       "1631752      0      0      0  \n",
       "\n",
       "[5 rows x 50 columns]"
      ]
     },
     "execution_count": 41,
     "metadata": {},
     "output_type": "execute_result"
    }
   ],
   "source": [
    "x_test.head()"
   ]
  },
  {
   "cell_type": "code",
   "execution_count": 42,
   "id": "d27f996a",
   "metadata": {},
   "outputs": [
    {
     "data": {
      "text/plain": [
       "array([False, False,  True, ..., False,  True, False])"
      ]
     },
     "execution_count": 42,
     "metadata": {},
     "output_type": "execute_result"
    }
   ],
   "source": [
    "LR.predict(x_test)"
   ]
  },
  {
   "cell_type": "code",
   "execution_count": 43,
   "id": "86d4aa84",
   "metadata": {},
   "outputs": [
    {
     "data": {
      "text/plain": [
       "array([False, False,  True, ..., False,  True, False])"
      ]
     },
     "execution_count": 43,
     "metadata": {},
     "output_type": "execute_result"
    }
   ],
   "source": [
    "y_test.values"
   ]
  },
  {
   "cell_type": "code",
   "execution_count": 44,
   "id": "6d5d7b08",
   "metadata": {},
   "outputs": [
    {
     "name": "stdout",
     "output_type": "stream",
     "text": [
      "0.7215384615384616\n"
     ]
    }
   ],
   "source": [
    "score = LR.score(x_test, y_test)\n",
    "print(score) \n",
    "# %72 is ok, though the test data should be more similar to real world rather than 50/50 mix"
   ]
  },
  {
   "cell_type": "code",
   "execution_count": 45,
   "id": "f7ccd3a2",
   "metadata": {},
   "outputs": [
    {
     "data": {
      "text/plain": [
       "array([[0.55891833, 0.44108167],\n",
       "       [0.50336226, 0.49663774],\n",
       "       [0.23632689, 0.76367311],\n",
       "       ...,\n",
       "       [0.71675979, 0.28324021],\n",
       "       [0.29039203, 0.70960797],\n",
       "       [0.59227326, 0.40772674]])"
      ]
     },
     "execution_count": 45,
     "metadata": {},
     "output_type": "execute_result"
    }
   ],
   "source": [
    "# may want to increase what an active is defined as verse non active\n",
    "LR.predict_proba(x_test)"
   ]
  },
  {
   "cell_type": "code",
   "execution_count": 46,
   "id": "57a3b101",
   "metadata": {},
   "outputs": [],
   "source": [
    "# try some other solvers\n",
    "# https://stackoverflow.com/questions/38640109/logistic-regression-python-solvers-definitions/52388406#52388406"
   ]
  },
  {
   "cell_type": "code",
   "execution_count": 47,
   "id": "516dabe2",
   "metadata": {},
   "outputs": [],
   "source": [
    "LR = LogisticRegression(solver='saga', max_iter=1000).fit(X, y)"
   ]
  },
  {
   "cell_type": "code",
   "execution_count": 48,
   "id": "173cef5f",
   "metadata": {},
   "outputs": [
    {
     "name": "stdout",
     "output_type": "stream",
     "text": [
      "0.7207692307692307\n"
     ]
    }
   ],
   "source": [
    "score = LR.score(x_test, y_test)\n",
    "print(score)\n",
    "# very similar"
   ]
  }
 ],
 "metadata": {
  "kernelspec": {
   "display_name": "Python 3 (ipykernel)",
   "language": "python",
   "name": "python3"
  },
  "language_info": {
   "codemirror_mode": {
    "name": "ipython",
    "version": 3
   },
   "file_extension": ".py",
   "mimetype": "text/x-python",
   "name": "python",
   "nbconvert_exporter": "python",
   "pygments_lexer": "ipython3",
   "version": "3.10.2"
  }
 },
 "nbformat": 4,
 "nbformat_minor": 5
}
