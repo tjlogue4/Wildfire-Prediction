{
 "cells": [
  {
   "cell_type": "markdown",
   "metadata": {},
   "source": [
    "### Notebook for creating dataset that will be uploaded to aws rds (MySQL)\n",
    "### The weather dataset was created using the noaa_weather.py program.\n",
    "##### In the future the weather may be aggregated somehow, this method is good enough to get the neural network set up and create the process for feeding the weather data to the network."
   ]
  },
  {
   "cell_type": "code",
   "execution_count": 1,
   "metadata": {},
   "outputs": [],
   "source": [
    "import pandas as pd\n",
    "from tqdm.notebook import tqdm\n",
    "import geocoder"
   ]
  },
  {
   "cell_type": "code",
   "execution_count": 2,
   "metadata": {},
   "outputs": [
    {
     "name": "stderr",
     "output_type": "stream",
     "text": [
      "c:\\users\\tjlog\\appdata\\local\\programs\\python\\python37\\lib\\site-packages\\pandas\\util\\_decorators.py:311: ParserWarning: Length of header or names does not match length of data. This leads to a loss of data with index_col=False.\n",
      "  return func(*args, **kwargs)\n"
     ]
    }
   ],
   "source": [
    "dfmgrs = pd.read_csv('c_us.csv', index_col= False, encoding = 'unicode_escape')"
   ]
  },
  {
   "cell_type": "code",
   "execution_count": 3,
   "metadata": {},
   "outputs": [
    {
     "data": {
      "text/html": [
       "<div>\n",
       "<style scoped>\n",
       "    .dataframe tbody tr th:only-of-type {\n",
       "        vertical-align: middle;\n",
       "    }\n",
       "\n",
       "    .dataframe tbody tr th {\n",
       "        vertical-align: top;\n",
       "    }\n",
       "\n",
       "    .dataframe thead th {\n",
       "        text-align: right;\n",
       "    }\n",
       "</style>\n",
       "<table border=\"1\" class=\"dataframe\">\n",
       "  <thead>\n",
       "    <tr style=\"text-align: right;\">\n",
       "      <th></th>\n",
       "      <th>Entity ID</th>\n",
       "      <th>Acquisition Start Date</th>\n",
       "      <th>Acquisition End Date</th>\n",
       "      <th>Tile Number</th>\n",
       "      <th>Cloud Cover</th>\n",
       "      <th>Agency</th>\n",
       "      <th>Platform</th>\n",
       "      <th>Vendor</th>\n",
       "      <th>Vendor Tile ID</th>\n",
       "      <th>Orbit Number</th>\n",
       "      <th>...</th>\n",
       "      <th>Center Longitude dec</th>\n",
       "      <th>NW  Corner Lat dec</th>\n",
       "      <th>NW Corner Long dec</th>\n",
       "      <th>NE Corner Lat dec</th>\n",
       "      <th>NE Corner Long dec</th>\n",
       "      <th>SE Corner Lat dec</th>\n",
       "      <th>SE Corner Long dec</th>\n",
       "      <th>SW Corner Lat dec</th>\n",
       "      <th>SW Corner Long dec</th>\n",
       "      <th>Display ID</th>\n",
       "    </tr>\n",
       "  </thead>\n",
       "  <tbody>\n",
       "    <tr>\n",
       "      <th>0</th>\n",
       "      <td>L1C_T10TFL_A029325_20210201T190617</td>\n",
       "      <td>2021-02-01T19:06:17.464Z</td>\n",
       "      <td>2021-02-01T19:14:17.298Z</td>\n",
       "      <td>T10TFL</td>\n",
       "      <td>27.1647</td>\n",
       "      <td>ESA</td>\n",
       "      <td>SENTINEL-2A</td>\n",
       "      <td>VGS2</td>\n",
       "      <td>L1C_T10TFL_A029325_20210201T190617</td>\n",
       "      <td>13</td>\n",
       "      <td>...</td>\n",
       "      <td>-121.157036</td>\n",
       "      <td>41.545594</td>\n",
       "      <td>-121.801030</td>\n",
       "      <td>41.524345</td>\n",
       "      <td>-120.485462</td>\n",
       "      <td>40.536186</td>\n",
       "      <td>-120.522802</td>\n",
       "      <td>40.556712</td>\n",
       "      <td>-121.818852</td>\n",
       "      <td>L1C_T10TFL_A029325_20210201T190617</td>\n",
       "    </tr>\n",
       "    <tr>\n",
       "      <th>1</th>\n",
       "      <td>L1C_T12STH_A020416_20210201T182238</td>\n",
       "      <td>2021-02-01T18:22:38.527Z</td>\n",
       "      <td>2021-02-01T18:26:58.287Z</td>\n",
       "      <td>T12STH</td>\n",
       "      <td>99.9947</td>\n",
       "      <td>ESA</td>\n",
       "      <td>SENTINEL-2B</td>\n",
       "      <td>VGS1</td>\n",
       "      <td>L1C_T12STH_A020416_20210201T182238</td>\n",
       "      <td>84</td>\n",
       "      <td>...</td>\n",
       "      <td>-113.803879</td>\n",
       "      <td>38.797895</td>\n",
       "      <td>-114.454503</td>\n",
       "      <td>38.828440</td>\n",
       "      <td>-113.191347</td>\n",
       "      <td>37.839596</td>\n",
       "      <td>-113.161752</td>\n",
       "      <td>37.810108</td>\n",
       "      <td>-114.407915</td>\n",
       "      <td>L1C_T12STH_A020416_20210201T182238</td>\n",
       "    </tr>\n",
       "    <tr>\n",
       "      <th>2</th>\n",
       "      <td>L1C_T12SVF_A020416_20210201T182238</td>\n",
       "      <td>2021-02-01T18:22:38.527Z</td>\n",
       "      <td>2021-02-01T18:26:58.287Z</td>\n",
       "      <td>T12SVF</td>\n",
       "      <td>99.9978</td>\n",
       "      <td>ESA</td>\n",
       "      <td>SENTINEL-2B</td>\n",
       "      <td>VGS1</td>\n",
       "      <td>L1C_T12SVF_A020416_20210201T182238</td>\n",
       "      <td>84</td>\n",
       "      <td>...</td>\n",
       "      <td>-111.504373</td>\n",
       "      <td>37.041250</td>\n",
       "      <td>-112.124935</td>\n",
       "      <td>37.046532</td>\n",
       "      <td>-110.890241</td>\n",
       "      <td>36.056675</td>\n",
       "      <td>-110.891632</td>\n",
       "      <td>36.051579</td>\n",
       "      <td>-112.110684</td>\n",
       "      <td>L1C_T12SVF_A020416_20210201T182238</td>\n",
       "    </tr>\n",
       "    <tr>\n",
       "      <th>3</th>\n",
       "      <td>L1C_T12STA_A020416_20210201T182238</td>\n",
       "      <td>2021-02-01T18:22:38.527Z</td>\n",
       "      <td>2021-02-01T18:26:58.287Z</td>\n",
       "      <td>T12STA</td>\n",
       "      <td>98.2564</td>\n",
       "      <td>ESA</td>\n",
       "      <td>SENTINEL-2B</td>\n",
       "      <td>VGS1</td>\n",
       "      <td>L1C_T12STA_A020416_20210201T182238</td>\n",
       "      <td>84</td>\n",
       "      <td>...</td>\n",
       "      <td>-113.595134</td>\n",
       "      <td>32.496814</td>\n",
       "      <td>-114.192952</td>\n",
       "      <td>32.521047</td>\n",
       "      <td>-113.025220</td>\n",
       "      <td>31.531070</td>\n",
       "      <td>-113.003545</td>\n",
       "      <td>31.507745</td>\n",
       "      <td>-114.158821</td>\n",
       "      <td>L1C_T12STA_A020416_20210201T182238</td>\n",
       "    </tr>\n",
       "    <tr>\n",
       "      <th>4</th>\n",
       "      <td>L1C_T11SQA_A020416_20210201T182238</td>\n",
       "      <td>2021-02-01T18:22:38.527Z</td>\n",
       "      <td>2021-02-01T18:26:58.287Z</td>\n",
       "      <td>T11SQA</td>\n",
       "      <td>99.9998</td>\n",
       "      <td>ESA</td>\n",
       "      <td>SENTINEL-2B</td>\n",
       "      <td>VGS1</td>\n",
       "      <td>L1C_T11SQA_A020416_20210201T182238</td>\n",
       "      <td>84</td>\n",
       "      <td>...</td>\n",
       "      <td>-114.153856</td>\n",
       "      <td>37.025284</td>\n",
       "      <td>-114.752070</td>\n",
       "      <td>36.995511</td>\n",
       "      <td>-113.519414</td>\n",
       "      <td>36.007451</td>\n",
       "      <td>-113.563414</td>\n",
       "      <td>36.036176</td>\n",
       "      <td>-114.780526</td>\n",
       "      <td>L1C_T11SQA_A020416_20210201T182238</td>\n",
       "    </tr>\n",
       "  </tbody>\n",
       "</table>\n",
       "<p>5 rows × 53 columns</p>\n",
       "</div>"
      ],
      "text/plain": [
       "                            Entity ID    Acquisition Start Date  \\\n",
       "0  L1C_T10TFL_A029325_20210201T190617  2021-02-01T19:06:17.464Z   \n",
       "1  L1C_T12STH_A020416_20210201T182238  2021-02-01T18:22:38.527Z   \n",
       "2  L1C_T12SVF_A020416_20210201T182238  2021-02-01T18:22:38.527Z   \n",
       "3  L1C_T12STA_A020416_20210201T182238  2021-02-01T18:22:38.527Z   \n",
       "4  L1C_T11SQA_A020416_20210201T182238  2021-02-01T18:22:38.527Z   \n",
       "\n",
       "       Acquisition End Date Tile Number  Cloud Cover Agency     Platform  \\\n",
       "0  2021-02-01T19:14:17.298Z      T10TFL      27.1647    ESA  SENTINEL-2A   \n",
       "1  2021-02-01T18:26:58.287Z      T12STH      99.9947    ESA  SENTINEL-2B   \n",
       "2  2021-02-01T18:26:58.287Z      T12SVF      99.9978    ESA  SENTINEL-2B   \n",
       "3  2021-02-01T18:26:58.287Z      T12STA      98.2564    ESA  SENTINEL-2B   \n",
       "4  2021-02-01T18:26:58.287Z      T11SQA      99.9998    ESA  SENTINEL-2B   \n",
       "\n",
       "  Vendor                      Vendor Tile ID  Orbit Number  ...  \\\n",
       "0   VGS2  L1C_T10TFL_A029325_20210201T190617            13  ...   \n",
       "1   VGS1  L1C_T12STH_A020416_20210201T182238            84  ...   \n",
       "2   VGS1  L1C_T12SVF_A020416_20210201T182238            84  ...   \n",
       "3   VGS1  L1C_T12STA_A020416_20210201T182238            84  ...   \n",
       "4   VGS1  L1C_T11SQA_A020416_20210201T182238            84  ...   \n",
       "\n",
       "  Center Longitude dec  NW  Corner Lat dec NW Corner Long dec  \\\n",
       "0          -121.157036           41.545594        -121.801030   \n",
       "1          -113.803879           38.797895        -114.454503   \n",
       "2          -111.504373           37.041250        -112.124935   \n",
       "3          -113.595134           32.496814        -114.192952   \n",
       "4          -114.153856           37.025284        -114.752070   \n",
       "\n",
       "  NE Corner Lat dec NE Corner Long dec SE Corner Lat dec SE Corner Long dec  \\\n",
       "0         41.524345        -120.485462         40.536186        -120.522802   \n",
       "1         38.828440        -113.191347         37.839596        -113.161752   \n",
       "2         37.046532        -110.890241         36.056675        -110.891632   \n",
       "3         32.521047        -113.025220         31.531070        -113.003545   \n",
       "4         36.995511        -113.519414         36.007451        -113.563414   \n",
       "\n",
       "  SW Corner Lat dec SW Corner Long dec                          Display ID  \n",
       "0         40.556712        -121.818852  L1C_T10TFL_A029325_20210201T190617  \n",
       "1         37.810108        -114.407915  L1C_T12STH_A020416_20210201T182238  \n",
       "2         36.051579        -112.110684  L1C_T12SVF_A020416_20210201T182238  \n",
       "3         31.507745        -114.158821  L1C_T12STA_A020416_20210201T182238  \n",
       "4         36.036176        -114.780526  L1C_T11SQA_A020416_20210201T182238  \n",
       "\n",
       "[5 rows x 53 columns]"
      ]
     },
     "execution_count": 3,
     "metadata": {},
     "output_type": "execute_result"
    }
   ],
   "source": [
    "dfmgrs.head()"
   ]
  },
  {
   "cell_type": "code",
   "execution_count": 4,
   "metadata": {},
   "outputs": [],
   "source": [
    "dfmgrs = dfmgrs[['Tile Number', 'Center Latitude dec', 'Center Longitude dec']]"
   ]
  },
  {
   "cell_type": "code",
   "execution_count": 5,
   "metadata": {},
   "outputs": [
    {
     "data": {
      "text/html": [
       "<div>\n",
       "<style scoped>\n",
       "    .dataframe tbody tr th:only-of-type {\n",
       "        vertical-align: middle;\n",
       "    }\n",
       "\n",
       "    .dataframe tbody tr th {\n",
       "        vertical-align: top;\n",
       "    }\n",
       "\n",
       "    .dataframe thead th {\n",
       "        text-align: right;\n",
       "    }\n",
       "</style>\n",
       "<table border=\"1\" class=\"dataframe\">\n",
       "  <thead>\n",
       "    <tr style=\"text-align: right;\">\n",
       "      <th></th>\n",
       "      <th>Tile Number</th>\n",
       "      <th>Center Latitude dec</th>\n",
       "      <th>Center Longitude dec</th>\n",
       "    </tr>\n",
       "  </thead>\n",
       "  <tbody>\n",
       "    <tr>\n",
       "      <th>0</th>\n",
       "      <td>T10TFL</td>\n",
       "      <td>41.042580</td>\n",
       "      <td>-121.157036</td>\n",
       "    </tr>\n",
       "    <tr>\n",
       "      <th>1</th>\n",
       "      <td>T12STH</td>\n",
       "      <td>38.320709</td>\n",
       "      <td>-113.803879</td>\n",
       "    </tr>\n",
       "    <tr>\n",
       "      <th>2</th>\n",
       "      <td>T12SVF</td>\n",
       "      <td>36.550607</td>\n",
       "      <td>-111.504373</td>\n",
       "    </tr>\n",
       "    <tr>\n",
       "      <th>3</th>\n",
       "      <td>T12STA</td>\n",
       "      <td>32.015518</td>\n",
       "      <td>-113.595134</td>\n",
       "    </tr>\n",
       "    <tr>\n",
       "      <th>4</th>\n",
       "      <td>T11SQA</td>\n",
       "      <td>36.517700</td>\n",
       "      <td>-114.153856</td>\n",
       "    </tr>\n",
       "    <tr>\n",
       "      <th>...</th>\n",
       "      <td>...</td>\n",
       "      <td>...</td>\n",
       "      <td>...</td>\n",
       "    </tr>\n",
       "    <tr>\n",
       "      <th>64567</th>\n",
       "      <td>T13TDH</td>\n",
       "      <td>42.857152</td>\n",
       "      <td>-105.552529</td>\n",
       "    </tr>\n",
       "    <tr>\n",
       "      <th>64568</th>\n",
       "      <td>T12SYF</td>\n",
       "      <td>36.517700</td>\n",
       "      <td>-108.153856</td>\n",
       "    </tr>\n",
       "    <tr>\n",
       "      <th>64569</th>\n",
       "      <td>T13SCA</td>\n",
       "      <td>36.540655</td>\n",
       "      <td>-106.621013</td>\n",
       "    </tr>\n",
       "    <tr>\n",
       "      <th>64570</th>\n",
       "      <td>T13TCH</td>\n",
       "      <td>42.844714</td>\n",
       "      <td>-106.775699</td>\n",
       "    </tr>\n",
       "    <tr>\n",
       "      <th>64571</th>\n",
       "      <td>T12SXF</td>\n",
       "      <td>36.539117</td>\n",
       "      <td>-109.269548</td>\n",
       "    </tr>\n",
       "  </tbody>\n",
       "</table>\n",
       "<p>64572 rows × 3 columns</p>\n",
       "</div>"
      ],
      "text/plain": [
       "      Tile Number  Center Latitude dec  Center Longitude dec\n",
       "0          T10TFL            41.042580           -121.157036\n",
       "1          T12STH            38.320709           -113.803879\n",
       "2          T12SVF            36.550607           -111.504373\n",
       "3          T12STA            32.015518           -113.595134\n",
       "4          T11SQA            36.517700           -114.153856\n",
       "...           ...                  ...                   ...\n",
       "64567      T13TDH            42.857152           -105.552529\n",
       "64568      T12SYF            36.517700           -108.153856\n",
       "64569      T13SCA            36.540655           -106.621013\n",
       "64570      T13TCH            42.844714           -106.775699\n",
       "64571      T12SXF            36.539117           -109.269548\n",
       "\n",
       "[64572 rows x 3 columns]"
      ]
     },
     "execution_count": 5,
     "metadata": {},
     "output_type": "execute_result"
    }
   ],
   "source": [
    "dfmgrs"
   ]
  },
  {
   "cell_type": "code",
   "execution_count": 6,
   "metadata": {},
   "outputs": [],
   "source": [
    "dfmgrs = dfmgrs.drop_duplicates()"
   ]
  },
  {
   "cell_type": "code",
   "execution_count": 7,
   "metadata": {},
   "outputs": [
    {
     "name": "stdout",
     "output_type": "stream",
     "text": [
      "<class 'pandas.core.frame.DataFrame'>\n",
      "Int64Index: 406 entries, 0 to 818\n",
      "Data columns (total 3 columns):\n",
      " #   Column                Non-Null Count  Dtype  \n",
      "---  ------                --------------  -----  \n",
      " 0   Tile Number           406 non-null    object \n",
      " 1   Center Latitude dec   406 non-null    float64\n",
      " 2   Center Longitude dec  406 non-null    float64\n",
      "dtypes: float64(2), object(1)\n",
      "memory usage: 12.7+ KB\n"
     ]
    }
   ],
   "source": [
    "dfmgrs.info()"
   ]
  },
  {
   "cell_type": "code",
   "execution_count": 8,
   "metadata": {},
   "outputs": [
    {
     "data": {
      "text/plain": [
       "406"
      ]
     },
     "execution_count": 8,
     "metadata": {},
     "output_type": "execute_result"
    }
   ],
   "source": [
    "len(dfmgrs['Tile Number'].unique())"
   ]
  },
  {
   "cell_type": "code",
   "execution_count": 9,
   "metadata": {},
   "outputs": [],
   "source": [
    "dfmgrs = dfmgrs.rename(columns = {'Tile Number': 'MGRS', 'Center Latitude dec': 'Latitude', 'Center Longitude dec': 'Longitude' })"
   ]
  },
  {
   "cell_type": "code",
   "execution_count": 10,
   "metadata": {},
   "outputs": [],
   "source": [
    "dfmgrs['MGRS'] = dfmgrs['MGRS'].str[1:]"
   ]
  },
  {
   "cell_type": "code",
   "execution_count": 11,
   "metadata": {},
   "outputs": [
    {
     "name": "stdout",
     "output_type": "stream",
     "text": [
      "<class 'pandas.core.frame.DataFrame'>\n",
      "Int64Index: 406 entries, 0 to 818\n",
      "Data columns (total 3 columns):\n",
      " #   Column     Non-Null Count  Dtype  \n",
      "---  ------     --------------  -----  \n",
      " 0   MGRS       406 non-null    object \n",
      " 1   Latitude   406 non-null    float64\n",
      " 2   Longitude  406 non-null    float64\n",
      "dtypes: float64(2), object(1)\n",
      "memory usage: 12.7+ KB\n"
     ]
    }
   ],
   "source": [
    "dfmgrs.info()"
   ]
  },
  {
   "cell_type": "code",
   "execution_count": 12,
   "metadata": {},
   "outputs": [
    {
     "data": {
      "text/html": [
       "<div>\n",
       "<style scoped>\n",
       "    .dataframe tbody tr th:only-of-type {\n",
       "        vertical-align: middle;\n",
       "    }\n",
       "\n",
       "    .dataframe tbody tr th {\n",
       "        vertical-align: top;\n",
       "    }\n",
       "\n",
       "    .dataframe thead th {\n",
       "        text-align: right;\n",
       "    }\n",
       "</style>\n",
       "<table border=\"1\" class=\"dataframe\">\n",
       "  <thead>\n",
       "    <tr style=\"text-align: right;\">\n",
       "      <th></th>\n",
       "      <th>MGRS</th>\n",
       "      <th>Latitude</th>\n",
       "      <th>Longitude</th>\n",
       "    </tr>\n",
       "  </thead>\n",
       "  <tbody>\n",
       "    <tr>\n",
       "      <th>0</th>\n",
       "      <td>10TFL</td>\n",
       "      <td>41.042580</td>\n",
       "      <td>-121.157036</td>\n",
       "    </tr>\n",
       "    <tr>\n",
       "      <th>1</th>\n",
       "      <td>12STH</td>\n",
       "      <td>38.320709</td>\n",
       "      <td>-113.803879</td>\n",
       "    </tr>\n",
       "    <tr>\n",
       "      <th>2</th>\n",
       "      <td>12SVF</td>\n",
       "      <td>36.550607</td>\n",
       "      <td>-111.504373</td>\n",
       "    </tr>\n",
       "    <tr>\n",
       "      <th>3</th>\n",
       "      <td>12STA</td>\n",
       "      <td>32.015518</td>\n",
       "      <td>-113.595134</td>\n",
       "    </tr>\n",
       "    <tr>\n",
       "      <th>4</th>\n",
       "      <td>11SQA</td>\n",
       "      <td>36.517700</td>\n",
       "      <td>-114.153856</td>\n",
       "    </tr>\n",
       "  </tbody>\n",
       "</table>\n",
       "</div>"
      ],
      "text/plain": [
       "    MGRS   Latitude   Longitude\n",
       "0  10TFL  41.042580 -121.157036\n",
       "1  12STH  38.320709 -113.803879\n",
       "2  12SVF  36.550607 -111.504373\n",
       "3  12STA  32.015518 -113.595134\n",
       "4  11SQA  36.517700 -114.153856"
      ]
     },
     "execution_count": 12,
     "metadata": {},
     "output_type": "execute_result"
    }
   ],
   "source": [
    "dfmgrs.head()"
   ]
  },
  {
   "cell_type": "code",
   "execution_count": 13,
   "metadata": {},
   "outputs": [
    {
     "data": {
      "application/vnd.jupyter.widget-view+json": {
       "model_id": "aafd057c6f3f4caba498c81f0bc9338b",
       "version_major": 2,
       "version_minor": 0
      },
      "text/plain": [
       "  0%|          | 0/406 [00:00<?, ?it/s]"
      ]
     },
     "metadata": {},
     "output_type": "display_data"
    }
   ],
   "source": [
    "#not really sure how to vectorize and not worth the time to figure out\n",
    "for index, row in tqdm(dfmgrs.iterrows(), total =len(dfmgrs['MGRS'].unique())):\n",
    "    loc = geocoder.osm([row['Latitude'],row['Longitude']], method='reverse')\n",
    "    try:\n",
    "        ccode = loc.json['country_code']\n",
    "    except:\n",
    "        ccode = None\n",
    "    try:\n",
    "        country = loc.json['country']\n",
    "    except:\n",
    "        country = None\n",
    "    try:    \n",
    "        state = loc.json['state']\n",
    "    except:\n",
    "        state = None\n",
    "    dfmgrs.loc[index, 'Country_Code'] = ccode\n",
    "    dfmgrs.loc[index, 'Country'] = country\n",
    "    dfmgrs.loc[index, 'STATE'] = state"
   ]
  },
  {
   "cell_type": "code",
   "execution_count": 14,
   "metadata": {},
   "outputs": [
    {
     "data": {
      "text/html": [
       "<div>\n",
       "<style scoped>\n",
       "    .dataframe tbody tr th:only-of-type {\n",
       "        vertical-align: middle;\n",
       "    }\n",
       "\n",
       "    .dataframe tbody tr th {\n",
       "        vertical-align: top;\n",
       "    }\n",
       "\n",
       "    .dataframe thead th {\n",
       "        text-align: right;\n",
       "    }\n",
       "</style>\n",
       "<table border=\"1\" class=\"dataframe\">\n",
       "  <thead>\n",
       "    <tr style=\"text-align: right;\">\n",
       "      <th></th>\n",
       "      <th>MGRS</th>\n",
       "      <th>Latitude</th>\n",
       "      <th>Longitude</th>\n",
       "      <th>Country_Code</th>\n",
       "      <th>Country</th>\n",
       "      <th>STATE</th>\n",
       "    </tr>\n",
       "  </thead>\n",
       "  <tbody>\n",
       "    <tr>\n",
       "      <th>0</th>\n",
       "      <td>10TFL</td>\n",
       "      <td>41.042580</td>\n",
       "      <td>-121.157036</td>\n",
       "      <td>us</td>\n",
       "      <td>United States</td>\n",
       "      <td>California</td>\n",
       "    </tr>\n",
       "    <tr>\n",
       "      <th>1</th>\n",
       "      <td>12STH</td>\n",
       "      <td>38.320709</td>\n",
       "      <td>-113.803879</td>\n",
       "      <td>us</td>\n",
       "      <td>United States</td>\n",
       "      <td>Utah</td>\n",
       "    </tr>\n",
       "    <tr>\n",
       "      <th>2</th>\n",
       "      <td>12SVF</td>\n",
       "      <td>36.550607</td>\n",
       "      <td>-111.504373</td>\n",
       "      <td>us</td>\n",
       "      <td>United States</td>\n",
       "      <td>Arizona</td>\n",
       "    </tr>\n",
       "    <tr>\n",
       "      <th>3</th>\n",
       "      <td>12STA</td>\n",
       "      <td>32.015518</td>\n",
       "      <td>-113.595134</td>\n",
       "      <td>mx</td>\n",
       "      <td>México</td>\n",
       "      <td>Sonora</td>\n",
       "    </tr>\n",
       "    <tr>\n",
       "      <th>4</th>\n",
       "      <td>11SQA</td>\n",
       "      <td>36.517700</td>\n",
       "      <td>-114.153856</td>\n",
       "      <td>us</td>\n",
       "      <td>United States</td>\n",
       "      <td>Nevada</td>\n",
       "    </tr>\n",
       "  </tbody>\n",
       "</table>\n",
       "</div>"
      ],
      "text/plain": [
       "    MGRS   Latitude   Longitude Country_Code        Country       STATE\n",
       "0  10TFL  41.042580 -121.157036           us  United States  California\n",
       "1  12STH  38.320709 -113.803879           us  United States        Utah\n",
       "2  12SVF  36.550607 -111.504373           us  United States     Arizona\n",
       "3  12STA  32.015518 -113.595134           mx         México      Sonora\n",
       "4  11SQA  36.517700 -114.153856           us  United States      Nevada"
      ]
     },
     "execution_count": 14,
     "metadata": {},
     "output_type": "execute_result"
    }
   ],
   "source": [
    "dfmgrs.head()"
   ]
  },
  {
   "cell_type": "code",
   "execution_count": 15,
   "metadata": {},
   "outputs": [],
   "source": [
    "from sqlalchemy import create_engine\n",
    "import os\n",
    "USER = os.environ.get('DBUSERNAME')\n",
    "PASSWORD = os.environ.get('DBPASSWORD')\n",
    "ENDPOINT = os.environ.get('DBDEV')\n",
    "SCHEMA = 'dev'\n",
    "engine = create_engine(f\"mysql+pymysql://{USER}:{PASSWORD}@{ENDPOINT}/{SCHEMA}\")"
   ]
  },
  {
   "cell_type": "code",
   "execution_count": 15,
   "metadata": {},
   "outputs": [],
   "source": [
    "table = 'mgrs'\n",
    "engine = create_engine(f\"mysql+pymysql://{USER}:{PASSWORD}@{ENDPOINT}/{SCHEMA}\")\n",
    "dfmgrs.to_sql(table, con = engine, if_exists = 'append')"
   ]
  },
  {
   "cell_type": "code",
   "execution_count": 16,
   "metadata": {},
   "outputs": [
    {
     "name": "stderr",
     "output_type": "stream",
     "text": [
      "c:\\users\\tjlog\\appdata\\local\\programs\\python\\python37\\lib\\site-packages\\IPython\\core\\interactiveshell.py:3524: DtypeWarning: Columns (7) have mixed types.Specify dtype option on import or set low_memory=False.\n",
      "  exec(code_obj, self.user_global_ns, self.user_ns)\n"
     ]
    }
   ],
   "source": [
    "df = pd.read_csv('l2a_index.csv')"
   ]
  },
  {
   "cell_type": "code",
   "execution_count": 17,
   "metadata": {},
   "outputs": [
    {
     "name": "stdout",
     "output_type": "stream",
     "text": [
      "<class 'pandas.core.frame.DataFrame'>\n",
      "RangeIndex: 13107242 entries, 0 to 13107241\n",
      "Data columns (total 14 columns):\n",
      " #   Column                  Dtype  \n",
      "---  ------                  -----  \n",
      " 0   GRANULE_ID              object \n",
      " 1   PRODUCT_ID              object \n",
      " 2   DATATAKE_IDENTIFIER     object \n",
      " 3   MGRS_TILE               object \n",
      " 4   SENSING_TIME            object \n",
      " 5   TOTAL_SIZE              int64  \n",
      " 6   CLOUD_COVER             float64\n",
      " 7   GEOMETRIC_QUALITY_FLAG  object \n",
      " 8   GENERATION_TIME         object \n",
      " 9   NORTH_LAT               float64\n",
      " 10  SOUTH_LAT               float64\n",
      " 11  WEST_LON                float64\n",
      " 12  EAST_LON                float64\n",
      " 13  BASE_URL                object \n",
      "dtypes: float64(5), int64(1), object(8)\n",
      "memory usage: 1.4+ GB\n"
     ]
    }
   ],
   "source": [
    "df.info()"
   ]
  },
  {
   "cell_type": "code",
   "execution_count": 18,
   "metadata": {},
   "outputs": [],
   "source": [
    "del df['PRODUCT_ID']\n",
    "del df['DATATAKE_IDENTIFIER']\n",
    "del df['GEOMETRIC_QUALITY_FLAG']\n",
    "del df['GENERATION_TIME']\n",
    "del df['NORTH_LAT']\n",
    "del df['SOUTH_LAT']\n",
    "del df['WEST_LON']\n",
    "del df['EAST_LON']"
   ]
  },
  {
   "cell_type": "code",
   "execution_count": 19,
   "metadata": {},
   "outputs": [
    {
     "name": "stdout",
     "output_type": "stream",
     "text": [
      "<class 'pandas.core.frame.DataFrame'>\n",
      "RangeIndex: 13107242 entries, 0 to 13107241\n",
      "Data columns (total 6 columns):\n",
      " #   Column        Dtype  \n",
      "---  ------        -----  \n",
      " 0   GRANULE_ID    object \n",
      " 1   MGRS_TILE     object \n",
      " 2   SENSING_TIME  object \n",
      " 3   TOTAL_SIZE    int64  \n",
      " 4   CLOUD_COVER   float64\n",
      " 5   BASE_URL      object \n",
      "dtypes: float64(1), int64(1), object(4)\n",
      "memory usage: 600.0+ MB\n"
     ]
    }
   ],
   "source": [
    "df.info()"
   ]
  },
  {
   "cell_type": "code",
   "execution_count": 20,
   "metadata": {},
   "outputs": [
    {
     "data": {
      "text/html": [
       "<div>\n",
       "<style scoped>\n",
       "    .dataframe tbody tr th:only-of-type {\n",
       "        vertical-align: middle;\n",
       "    }\n",
       "\n",
       "    .dataframe tbody tr th {\n",
       "        vertical-align: top;\n",
       "    }\n",
       "\n",
       "    .dataframe thead th {\n",
       "        text-align: right;\n",
       "    }\n",
       "</style>\n",
       "<table border=\"1\" class=\"dataframe\">\n",
       "  <thead>\n",
       "    <tr style=\"text-align: right;\">\n",
       "      <th></th>\n",
       "      <th>GRANULE_ID</th>\n",
       "      <th>MGRS_TILE</th>\n",
       "      <th>SENSING_TIME</th>\n",
       "      <th>TOTAL_SIZE</th>\n",
       "      <th>CLOUD_COVER</th>\n",
       "      <th>BASE_URL</th>\n",
       "    </tr>\n",
       "  </thead>\n",
       "  <tbody>\n",
       "    <tr>\n",
       "      <th>0</th>\n",
       "      <td>L2A_T29TPF_A029063_20210114T112450</td>\n",
       "      <td>29TPF</td>\n",
       "      <td>2021-01-14T11:29:57.770000Z</td>\n",
       "      <td>1176133281</td>\n",
       "      <td>11.188985</td>\n",
       "      <td>gs://gcp-public-data-sentinel-2/L2/tiles/29/T/...</td>\n",
       "    </tr>\n",
       "    <tr>\n",
       "      <th>1</th>\n",
       "      <td>L2A_T53DND_A025853_20220216T235459</td>\n",
       "      <td>53DND</td>\n",
       "      <td>2022-02-16T23:56:07.936000Z</td>\n",
       "      <td>915771677</td>\n",
       "      <td>0.090527</td>\n",
       "      <td>gs://gcp-public-data-sentinel-2/L2/tiles/53/D/...</td>\n",
       "    </tr>\n",
       "    <tr>\n",
       "      <th>2</th>\n",
       "      <td>L2A_T35LML_A023284_20191207T083209</td>\n",
       "      <td>35LML</td>\n",
       "      <td>2019-12-07T08:42:35.745000Z</td>\n",
       "      <td>876400648</td>\n",
       "      <td>65.698431</td>\n",
       "      <td>gs://gcp-public-data-sentinel-2/L2/tiles/35/L/...</td>\n",
       "    </tr>\n",
       "    <tr>\n",
       "      <th>3</th>\n",
       "      <td>L2A_T15WVU_A021889_20210515T181914</td>\n",
       "      <td>15WVU</td>\n",
       "      <td>2021-05-15T18:24:14.976000Z</td>\n",
       "      <td>942897613</td>\n",
       "      <td>27.193338</td>\n",
       "      <td>gs://gcp-public-data-sentinel-2/L2/tiles/15/W/...</td>\n",
       "    </tr>\n",
       "    <tr>\n",
       "      <th>4</th>\n",
       "      <td>L2A_T54UXV_A018704_20190121T013955</td>\n",
       "      <td>54UXV</td>\n",
       "      <td>2019-01-21T01:43:27.000000Z</td>\n",
       "      <td>879335795</td>\n",
       "      <td>98.612651</td>\n",
       "      <td>gs://gcp-public-data-sentinel-2/L2/tiles/54/U/...</td>\n",
       "    </tr>\n",
       "  </tbody>\n",
       "</table>\n",
       "</div>"
      ],
      "text/plain": [
       "                           GRANULE_ID MGRS_TILE                 SENSING_TIME  \\\n",
       "0  L2A_T29TPF_A029063_20210114T112450     29TPF  2021-01-14T11:29:57.770000Z   \n",
       "1  L2A_T53DND_A025853_20220216T235459     53DND  2022-02-16T23:56:07.936000Z   \n",
       "2  L2A_T35LML_A023284_20191207T083209     35LML  2019-12-07T08:42:35.745000Z   \n",
       "3  L2A_T15WVU_A021889_20210515T181914     15WVU  2021-05-15T18:24:14.976000Z   \n",
       "4  L2A_T54UXV_A018704_20190121T013955     54UXV  2019-01-21T01:43:27.000000Z   \n",
       "\n",
       "   TOTAL_SIZE  CLOUD_COVER                                           BASE_URL  \n",
       "0  1176133281    11.188985  gs://gcp-public-data-sentinel-2/L2/tiles/29/T/...  \n",
       "1   915771677     0.090527  gs://gcp-public-data-sentinel-2/L2/tiles/53/D/...  \n",
       "2   876400648    65.698431  gs://gcp-public-data-sentinel-2/L2/tiles/35/L/...  \n",
       "3   942897613    27.193338  gs://gcp-public-data-sentinel-2/L2/tiles/15/W/...  \n",
       "4   879335795    98.612651  gs://gcp-public-data-sentinel-2/L2/tiles/54/U/...  "
      ]
     },
     "execution_count": 20,
     "metadata": {},
     "output_type": "execute_result"
    }
   ],
   "source": [
    "df.head()"
   ]
  },
  {
   "cell_type": "code",
   "execution_count": 21,
   "metadata": {},
   "outputs": [],
   "source": [
    "df['SENSING_TIME'] = pd.to_datetime(df['SENSING_TIME'])"
   ]
  },
  {
   "cell_type": "code",
   "execution_count": 22,
   "metadata": {},
   "outputs": [
    {
     "name": "stdout",
     "output_type": "stream",
     "text": [
      "<class 'pandas.core.frame.DataFrame'>\n",
      "RangeIndex: 13107242 entries, 0 to 13107241\n",
      "Data columns (total 6 columns):\n",
      " #   Column        Dtype              \n",
      "---  ------        -----              \n",
      " 0   GRANULE_ID    object             \n",
      " 1   MGRS_TILE     object             \n",
      " 2   SENSING_TIME  datetime64[ns, UTC]\n",
      " 3   TOTAL_SIZE    int64              \n",
      " 4   CLOUD_COVER   float64            \n",
      " 5   BASE_URL      object             \n",
      "dtypes: datetime64[ns, UTC](1), float64(1), int64(1), object(3)\n",
      "memory usage: 600.0+ MB\n"
     ]
    }
   ],
   "source": [
    "df.info()"
   ]
  },
  {
   "cell_type": "code",
   "execution_count": 23,
   "metadata": {},
   "outputs": [],
   "source": [
    "df = df[df['SENSING_TIME'] >= '2019-01-01']"
   ]
  },
  {
   "cell_type": "code",
   "execution_count": 24,
   "metadata": {},
   "outputs": [],
   "source": [
    "mgrs = dfmgrs.MGRS.unique().tolist()"
   ]
  },
  {
   "cell_type": "code",
   "execution_count": 25,
   "metadata": {},
   "outputs": [],
   "source": [
    "df['PROCESSED'] = 0\n",
    "df['IN_PROGRESS'] = 0"
   ]
  },
  {
   "cell_type": "code",
   "execution_count": 26,
   "metadata": {},
   "outputs": [
    {
     "data": {
      "text/html": [
       "<div>\n",
       "<style scoped>\n",
       "    .dataframe tbody tr th:only-of-type {\n",
       "        vertical-align: middle;\n",
       "    }\n",
       "\n",
       "    .dataframe tbody tr th {\n",
       "        vertical-align: top;\n",
       "    }\n",
       "\n",
       "    .dataframe thead th {\n",
       "        text-align: right;\n",
       "    }\n",
       "</style>\n",
       "<table border=\"1\" class=\"dataframe\">\n",
       "  <thead>\n",
       "    <tr style=\"text-align: right;\">\n",
       "      <th></th>\n",
       "      <th>GRANULE_ID</th>\n",
       "      <th>MGRS_TILE</th>\n",
       "      <th>SENSING_TIME</th>\n",
       "      <th>TOTAL_SIZE</th>\n",
       "      <th>CLOUD_COVER</th>\n",
       "      <th>BASE_URL</th>\n",
       "      <th>PROCESSED</th>\n",
       "      <th>IN_PROGRESS</th>\n",
       "    </tr>\n",
       "  </thead>\n",
       "  <tbody>\n",
       "    <tr>\n",
       "      <th>0</th>\n",
       "      <td>L2A_T29TPF_A029063_20210114T112450</td>\n",
       "      <td>29TPF</td>\n",
       "      <td>2021-01-14 11:29:57.770000+00:00</td>\n",
       "      <td>1176133281</td>\n",
       "      <td>11.188985</td>\n",
       "      <td>gs://gcp-public-data-sentinel-2/L2/tiles/29/T/...</td>\n",
       "      <td>0</td>\n",
       "      <td>0</td>\n",
       "    </tr>\n",
       "    <tr>\n",
       "      <th>1</th>\n",
       "      <td>L2A_T53DND_A025853_20220216T235459</td>\n",
       "      <td>53DND</td>\n",
       "      <td>2022-02-16 23:56:07.936000+00:00</td>\n",
       "      <td>915771677</td>\n",
       "      <td>0.090527</td>\n",
       "      <td>gs://gcp-public-data-sentinel-2/L2/tiles/53/D/...</td>\n",
       "      <td>0</td>\n",
       "      <td>0</td>\n",
       "    </tr>\n",
       "    <tr>\n",
       "      <th>2</th>\n",
       "      <td>L2A_T35LML_A023284_20191207T083209</td>\n",
       "      <td>35LML</td>\n",
       "      <td>2019-12-07 08:42:35.745000+00:00</td>\n",
       "      <td>876400648</td>\n",
       "      <td>65.698431</td>\n",
       "      <td>gs://gcp-public-data-sentinel-2/L2/tiles/35/L/...</td>\n",
       "      <td>0</td>\n",
       "      <td>0</td>\n",
       "    </tr>\n",
       "    <tr>\n",
       "      <th>3</th>\n",
       "      <td>L2A_T15WVU_A021889_20210515T181914</td>\n",
       "      <td>15WVU</td>\n",
       "      <td>2021-05-15 18:24:14.976000+00:00</td>\n",
       "      <td>942897613</td>\n",
       "      <td>27.193338</td>\n",
       "      <td>gs://gcp-public-data-sentinel-2/L2/tiles/15/W/...</td>\n",
       "      <td>0</td>\n",
       "      <td>0</td>\n",
       "    </tr>\n",
       "    <tr>\n",
       "      <th>4</th>\n",
       "      <td>L2A_T54UXV_A018704_20190121T013955</td>\n",
       "      <td>54UXV</td>\n",
       "      <td>2019-01-21 01:43:27+00:00</td>\n",
       "      <td>879335795</td>\n",
       "      <td>98.612651</td>\n",
       "      <td>gs://gcp-public-data-sentinel-2/L2/tiles/54/U/...</td>\n",
       "      <td>0</td>\n",
       "      <td>0</td>\n",
       "    </tr>\n",
       "  </tbody>\n",
       "</table>\n",
       "</div>"
      ],
      "text/plain": [
       "                           GRANULE_ID MGRS_TILE  \\\n",
       "0  L2A_T29TPF_A029063_20210114T112450     29TPF   \n",
       "1  L2A_T53DND_A025853_20220216T235459     53DND   \n",
       "2  L2A_T35LML_A023284_20191207T083209     35LML   \n",
       "3  L2A_T15WVU_A021889_20210515T181914     15WVU   \n",
       "4  L2A_T54UXV_A018704_20190121T013955     54UXV   \n",
       "\n",
       "                      SENSING_TIME  TOTAL_SIZE  CLOUD_COVER  \\\n",
       "0 2021-01-14 11:29:57.770000+00:00  1176133281    11.188985   \n",
       "1 2022-02-16 23:56:07.936000+00:00   915771677     0.090527   \n",
       "2 2019-12-07 08:42:35.745000+00:00   876400648    65.698431   \n",
       "3 2021-05-15 18:24:14.976000+00:00   942897613    27.193338   \n",
       "4        2019-01-21 01:43:27+00:00   879335795    98.612651   \n",
       "\n",
       "                                            BASE_URL  PROCESSED  IN_PROGRESS  \n",
       "0  gs://gcp-public-data-sentinel-2/L2/tiles/29/T/...          0            0  \n",
       "1  gs://gcp-public-data-sentinel-2/L2/tiles/53/D/...          0            0  \n",
       "2  gs://gcp-public-data-sentinel-2/L2/tiles/35/L/...          0            0  \n",
       "3  gs://gcp-public-data-sentinel-2/L2/tiles/15/W/...          0            0  \n",
       "4  gs://gcp-public-data-sentinel-2/L2/tiles/54/U/...          0            0  "
      ]
     },
     "execution_count": 26,
     "metadata": {},
     "output_type": "execute_result"
    }
   ],
   "source": [
    "df.head()"
   ]
  },
  {
   "cell_type": "code",
   "execution_count": 27,
   "metadata": {},
   "outputs": [],
   "source": [
    "from sqlalchemy import create_engine\n",
    "import os\n",
    "USER = os.environ.get('DBUSERNAME')\n",
    "PASSWORD = os.environ.get('DBPASSWORD')\n",
    "ENDPOINT = os.environ.get('DBDEV')\n",
    "SCHEMA = 'dev'\n",
    "engine = create_engine(f\"mysql+pymysql://{USER}:{PASSWORD}@{ENDPOINT}/{SCHEMA}\")"
   ]
  },
  {
   "cell_type": "code",
   "execution_count": 28,
   "metadata": {},
   "outputs": [
    {
     "data": {
      "application/vnd.jupyter.widget-view+json": {
       "model_id": "01f12b13bf2b4392862dc1ae06c41998",
       "version_major": 2,
       "version_minor": 0
      },
      "text/plain": [
       "  0%|          | 0/406 [00:00<?, ?it/s]"
      ]
     },
     "metadata": {},
     "output_type": "display_data"
    }
   ],
   "source": [
    "mgrs = dfmgrs.MGRS.unique().tolist()\n",
    "table = 'detect_l2a'\n",
    "\n",
    "for loc in tqdm(mgrs):\n",
    "\n",
    "    engine = create_engine(f\"mysql+pymysql://{USER}:{PASSWORD}@{ENDPOINT}/{SCHEMA}\")\n",
    "    dfup = df[df['MGRS_TILE'] == loc]\n",
    "    dfup.to_sql(table, con = engine, if_exists = 'append')\n"
   ]
  }
 ],
 "metadata": {
  "interpreter": {
   "hash": "c5b322d1f5beaecfb28b050f61b5bc2c682da0c88a01138942a1439f934c1c07"
  },
  "kernelspec": {
   "display_name": "Python 3 (ipykernel)",
   "language": "python",
   "name": "python3"
  },
  "language_info": {
   "codemirror_mode": {
    "name": "ipython",
    "version": 3
   },
   "file_extension": ".py",
   "mimetype": "text/x-python",
   "name": "python",
   "nbconvert_exporter": "python",
   "pygments_lexer": "ipython3",
   "version": "3.7.4"
  }
 },
 "nbformat": 4,
 "nbformat_minor": 2
}
